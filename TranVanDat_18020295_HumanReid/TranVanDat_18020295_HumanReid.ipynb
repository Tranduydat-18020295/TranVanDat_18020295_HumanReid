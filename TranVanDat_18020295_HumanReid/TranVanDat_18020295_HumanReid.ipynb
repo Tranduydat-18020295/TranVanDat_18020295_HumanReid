{
  "nbformat": 4,
  "nbformat_minor": 0,
  "metadata": {
    "colab": {
      "name": "HACKANONS COLAB 25GB RAM.ipynb",
      "provenance": [],
      "collapsed_sections": [],
      "toc_visible": true,
      "machine_shape": "hm"
    },
    "kernelspec": {
      "name": "python3",
      "display_name": "Python 3"
    },
    "accelerator": "GPU"
  },
  "cells": [
    {
      "cell_type": "markdown",
      "metadata": {
        "id": "tSWj4ybSkGCg"
      },
      "source": [
        "# TranVanDat_18020295_HumanReid "
      ]
    },
    {
      "cell_type": "code",
      "metadata": {
        "id": "P6dUiI4dyzvg",
        "outputId": "9640f4e6-fd8a-4a47-f822-4f02686ba7d9",
        "colab": {
          "base_uri": "https://localhost:8080/"
        }
      },
      "source": [
        "! git clone https://github.com/KaiyangZhou/deep-person-reid.git"
      ],
      "execution_count": 2,
      "outputs": [
        {
          "output_type": "stream",
          "name": "stdout",
          "text": [
            "Cloning into 'deep-person-reid'...\n",
            "remote: Enumerating objects: 9809, done.\u001b[K\n",
            "remote: Counting objects: 100% (283/283), done.\u001b[K\n",
            "remote: Compressing objects: 100% (100/100), done.\u001b[K\n",
            "remote: Total 9809 (delta 188), reused 267 (delta 183), pack-reused 9526\u001b[K\n",
            "Receiving objects: 100% (9809/9809), 9.59 MiB | 17.98 MiB/s, done.\n",
            "Resolving deltas: 100% (7226/7226), done.\n"
          ]
        }
      ]
    },
    {
      "cell_type": "code",
      "metadata": {
        "id": "q9x-eJzky4dD",
        "outputId": "49e3a4e2-bf8c-4473-a490-296097028cbd",
        "colab": {
          "base_uri": "https://localhost:8080/"
        }
      },
      "source": [
        "!ls"
      ],
      "execution_count": 3,
      "outputs": [
        {
          "output_type": "stream",
          "name": "stdout",
          "text": [
            "deep-person-reid  sample_data\n"
          ]
        }
      ]
    },
    {
      "cell_type": "code",
      "metadata": {
        "id": "_bvZp3Uiy8Gk",
        "outputId": "e5160803-fbe4-4719-fbd7-72748cbade8f",
        "colab": {
          "base_uri": "https://localhost:8080/"
        }
      },
      "source": [
        "cd deep-person-reid/"
      ],
      "execution_count": 4,
      "outputs": [
        {
          "output_type": "stream",
          "name": "stdout",
          "text": [
            "/content/deep-person-reid\n"
          ]
        }
      ]
    },
    {
      "cell_type": "code",
      "metadata": {
        "id": "6XHPzIdcy-D5",
        "outputId": "1e83d691-b9a3-4711-979b-9e10494d113b",
        "colab": {
          "base_uri": "https://localhost:8080/"
        }
      },
      "source": [
        "! pip install -r requirements.txt"
      ],
      "execution_count": 5,
      "outputs": [
        {
          "output_type": "stream",
          "name": "stdout",
          "text": [
            "Requirement already satisfied: numpy in /usr/local/lib/python3.7/dist-packages (from -r requirements.txt (line 1)) (1.19.5)\n",
            "Requirement already satisfied: Cython in /usr/local/lib/python3.7/dist-packages (from -r requirements.txt (line 2)) (0.29.24)\n",
            "Requirement already satisfied: h5py in /usr/local/lib/python3.7/dist-packages (from -r requirements.txt (line 3)) (3.1.0)\n",
            "Requirement already satisfied: Pillow in /usr/local/lib/python3.7/dist-packages (from -r requirements.txt (line 4)) (7.1.2)\n",
            "Requirement already satisfied: six in /usr/local/lib/python3.7/dist-packages (from -r requirements.txt (line 5)) (1.15.0)\n",
            "Requirement already satisfied: scipy in /usr/local/lib/python3.7/dist-packages (from -r requirements.txt (line 6)) (1.4.1)\n",
            "Requirement already satisfied: opencv-python in /usr/local/lib/python3.7/dist-packages (from -r requirements.txt (line 7)) (4.1.2.30)\n",
            "Requirement already satisfied: matplotlib in /usr/local/lib/python3.7/dist-packages (from -r requirements.txt (line 8)) (3.2.2)\n",
            "Collecting tb-nightly\n",
            "  Downloading tb_nightly-2.8.0a20211125-py3-none-any.whl (5.8 MB)\n",
            "\u001b[K     |████████████████████████████████| 5.8 MB 9.4 MB/s \n",
            "\u001b[?25hRequirement already satisfied: future in /usr/local/lib/python3.7/dist-packages (from -r requirements.txt (line 10)) (0.16.0)\n",
            "Collecting yacs\n",
            "  Downloading yacs-0.1.8-py3-none-any.whl (14 kB)\n",
            "Requirement already satisfied: gdown in /usr/local/lib/python3.7/dist-packages (from -r requirements.txt (line 12)) (3.6.4)\n",
            "Collecting flake8\n",
            "  Downloading flake8-4.0.1-py2.py3-none-any.whl (64 kB)\n",
            "\u001b[K     |████████████████████████████████| 64 kB 2.7 MB/s \n",
            "\u001b[?25hCollecting yapf\n",
            "  Downloading yapf-0.31.0-py2.py3-none-any.whl (185 kB)\n",
            "\u001b[K     |████████████████████████████████| 185 kB 46.1 MB/s \n",
            "\u001b[?25hCollecting isort==4.3.21\n",
            "  Downloading isort-4.3.21-py2.py3-none-any.whl (42 kB)\n",
            "\u001b[K     |████████████████████████████████| 42 kB 1.1 MB/s \n",
            "\u001b[?25hRequirement already satisfied: imageio in /usr/local/lib/python3.7/dist-packages (from -r requirements.txt (line 16)) (2.4.1)\n",
            "Requirement already satisfied: cached-property in /usr/local/lib/python3.7/dist-packages (from h5py->-r requirements.txt (line 3)) (1.5.2)\n",
            "Requirement already satisfied: kiwisolver>=1.0.1 in /usr/local/lib/python3.7/dist-packages (from matplotlib->-r requirements.txt (line 8)) (1.3.2)\n",
            "Requirement already satisfied: pyparsing!=2.0.4,!=2.1.2,!=2.1.6,>=2.0.1 in /usr/local/lib/python3.7/dist-packages (from matplotlib->-r requirements.txt (line 8)) (3.0.6)\n",
            "Requirement already satisfied: cycler>=0.10 in /usr/local/lib/python3.7/dist-packages (from matplotlib->-r requirements.txt (line 8)) (0.11.0)\n",
            "Requirement already satisfied: python-dateutil>=2.1 in /usr/local/lib/python3.7/dist-packages (from matplotlib->-r requirements.txt (line 8)) (2.8.2)\n",
            "Requirement already satisfied: tensorboard-plugin-wit>=1.6.0 in /usr/local/lib/python3.7/dist-packages (from tb-nightly->-r requirements.txt (line 9)) (1.8.0)\n",
            "Requirement already satisfied: absl-py>=0.4 in /usr/local/lib/python3.7/dist-packages (from tb-nightly->-r requirements.txt (line 9)) (0.12.0)\n",
            "Requirement already satisfied: requests<3,>=2.21.0 in /usr/local/lib/python3.7/dist-packages (from tb-nightly->-r requirements.txt (line 9)) (2.23.0)\n",
            "Requirement already satisfied: tensorboard-data-server<0.7.0,>=0.6.0 in /usr/local/lib/python3.7/dist-packages (from tb-nightly->-r requirements.txt (line 9)) (0.6.1)\n",
            "Requirement already satisfied: werkzeug>=0.11.15 in /usr/local/lib/python3.7/dist-packages (from tb-nightly->-r requirements.txt (line 9)) (1.0.1)\n",
            "Requirement already satisfied: protobuf>=3.6.0 in /usr/local/lib/python3.7/dist-packages (from tb-nightly->-r requirements.txt (line 9)) (3.17.3)\n",
            "Requirement already satisfied: google-auth<3,>=1.6.3 in /usr/local/lib/python3.7/dist-packages (from tb-nightly->-r requirements.txt (line 9)) (1.35.0)\n",
            "Requirement already satisfied: wheel>=0.26 in /usr/local/lib/python3.7/dist-packages (from tb-nightly->-r requirements.txt (line 9)) (0.37.0)\n",
            "Requirement already satisfied: grpcio>=1.24.3 in /usr/local/lib/python3.7/dist-packages (from tb-nightly->-r requirements.txt (line 9)) (1.42.0)\n",
            "Requirement already satisfied: markdown>=2.6.8 in /usr/local/lib/python3.7/dist-packages (from tb-nightly->-r requirements.txt (line 9)) (3.3.6)\n",
            "Requirement already satisfied: google-auth-oauthlib<0.5,>=0.4.1 in /usr/local/lib/python3.7/dist-packages (from tb-nightly->-r requirements.txt (line 9)) (0.4.6)\n",
            "Requirement already satisfied: setuptools>=41.0.0 in /usr/local/lib/python3.7/dist-packages (from tb-nightly->-r requirements.txt (line 9)) (57.4.0)\n",
            "Requirement already satisfied: cachetools<5.0,>=2.0.0 in /usr/local/lib/python3.7/dist-packages (from google-auth<3,>=1.6.3->tb-nightly->-r requirements.txt (line 9)) (4.2.4)\n",
            "Requirement already satisfied: rsa<5,>=3.1.4 in /usr/local/lib/python3.7/dist-packages (from google-auth<3,>=1.6.3->tb-nightly->-r requirements.txt (line 9)) (4.7.2)\n",
            "Requirement already satisfied: pyasn1-modules>=0.2.1 in /usr/local/lib/python3.7/dist-packages (from google-auth<3,>=1.6.3->tb-nightly->-r requirements.txt (line 9)) (0.2.8)\n",
            "Requirement already satisfied: requests-oauthlib>=0.7.0 in /usr/local/lib/python3.7/dist-packages (from google-auth-oauthlib<0.5,>=0.4.1->tb-nightly->-r requirements.txt (line 9)) (1.3.0)\n",
            "Requirement already satisfied: importlib-metadata>=4.4 in /usr/local/lib/python3.7/dist-packages (from markdown>=2.6.8->tb-nightly->-r requirements.txt (line 9)) (4.8.2)\n",
            "Requirement already satisfied: typing-extensions>=3.6.4 in /usr/local/lib/python3.7/dist-packages (from importlib-metadata>=4.4->markdown>=2.6.8->tb-nightly->-r requirements.txt (line 9)) (3.10.0.2)\n",
            "Requirement already satisfied: zipp>=0.5 in /usr/local/lib/python3.7/dist-packages (from importlib-metadata>=4.4->markdown>=2.6.8->tb-nightly->-r requirements.txt (line 9)) (3.6.0)\n",
            "Requirement already satisfied: pyasn1<0.5.0,>=0.4.6 in /usr/local/lib/python3.7/dist-packages (from pyasn1-modules>=0.2.1->google-auth<3,>=1.6.3->tb-nightly->-r requirements.txt (line 9)) (0.4.8)\n",
            "Requirement already satisfied: idna<3,>=2.5 in /usr/local/lib/python3.7/dist-packages (from requests<3,>=2.21.0->tb-nightly->-r requirements.txt (line 9)) (2.10)\n",
            "Requirement already satisfied: certifi>=2017.4.17 in /usr/local/lib/python3.7/dist-packages (from requests<3,>=2.21.0->tb-nightly->-r requirements.txt (line 9)) (2021.10.8)\n",
            "Requirement already satisfied: urllib3!=1.25.0,!=1.25.1,<1.26,>=1.21.1 in /usr/local/lib/python3.7/dist-packages (from requests<3,>=2.21.0->tb-nightly->-r requirements.txt (line 9)) (1.24.3)\n",
            "Requirement already satisfied: chardet<4,>=3.0.2 in /usr/local/lib/python3.7/dist-packages (from requests<3,>=2.21.0->tb-nightly->-r requirements.txt (line 9)) (3.0.4)\n",
            "Requirement already satisfied: oauthlib>=3.0.0 in /usr/local/lib/python3.7/dist-packages (from requests-oauthlib>=0.7.0->google-auth-oauthlib<0.5,>=0.4.1->tb-nightly->-r requirements.txt (line 9)) (3.1.1)\n",
            "Requirement already satisfied: PyYAML in /usr/local/lib/python3.7/dist-packages (from yacs->-r requirements.txt (line 11)) (3.13)\n",
            "Requirement already satisfied: tqdm in /usr/local/lib/python3.7/dist-packages (from gdown->-r requirements.txt (line 12)) (4.62.3)\n",
            "Collecting pycodestyle<2.9.0,>=2.8.0\n",
            "  Downloading pycodestyle-2.8.0-py2.py3-none-any.whl (42 kB)\n",
            "\u001b[K     |████████████████████████████████| 42 kB 1.0 MB/s \n",
            "\u001b[?25hCollecting pyflakes<2.5.0,>=2.4.0\n",
            "  Downloading pyflakes-2.4.0-py2.py3-none-any.whl (69 kB)\n",
            "\u001b[K     |████████████████████████████████| 69 kB 8.1 MB/s \n",
            "\u001b[?25hCollecting flake8\n",
            "  Downloading flake8-4.0.0-py2.py3-none-any.whl (64 kB)\n",
            "\u001b[K     |████████████████████████████████| 64 kB 2.7 MB/s \n",
            "\u001b[?25h  Downloading flake8-3.9.2-py2.py3-none-any.whl (73 kB)\n",
            "\u001b[K     |████████████████████████████████| 73 kB 1.8 MB/s \n",
            "\u001b[?25hCollecting pyflakes<2.4.0,>=2.3.0\n",
            "  Downloading pyflakes-2.3.1-py2.py3-none-any.whl (68 kB)\n",
            "\u001b[K     |████████████████████████████████| 68 kB 6.7 MB/s \n",
            "\u001b[?25hCollecting mccabe<0.7.0,>=0.6.0\n",
            "  Downloading mccabe-0.6.1-py2.py3-none-any.whl (8.6 kB)\n",
            "Collecting pycodestyle<2.8.0,>=2.7.0\n",
            "  Downloading pycodestyle-2.7.0-py2.py3-none-any.whl (41 kB)\n",
            "\u001b[K     |████████████████████████████████| 41 kB 647 kB/s \n",
            "\u001b[?25hInstalling collected packages: pyflakes, pycodestyle, mccabe, yapf, yacs, tb-nightly, isort, flake8\n",
            "Successfully installed flake8-3.9.2 isort-4.3.21 mccabe-0.6.1 pycodestyle-2.7.0 pyflakes-2.3.1 tb-nightly-2.8.0a20211125 yacs-0.1.8 yapf-0.31.0\n"
          ]
        }
      ]
    },
    {
      "cell_type": "markdown",
      "metadata": {
        "id": "Ba5TCjdn2SRG"
      },
      "source": [
        "## resnet50"
      ]
    },
    {
      "cell_type": "markdown",
      "metadata": {
        "id": "0ldL7f-Qj5YO"
      },
      "source": [
        "### khai báo thư viện"
      ]
    },
    {
      "cell_type": "code",
      "metadata": {
        "id": "jTxeUNYmvp5G",
        "colab": {
          "base_uri": "https://localhost:8080/"
        },
        "outputId": "4055cce4-f9cc-4f01-93fe-bcebb7c2a7d3"
      },
      "source": [
        "import torchreid"
      ],
      "execution_count": 6,
      "outputs": [
        {
          "output_type": "stream",
          "name": "stderr",
          "text": [
            "/content/deep-person-reid/torchreid/metrics/rank.py:12: UserWarning: Cython evaluation (very fast so highly recommended) is unavailable, now use python evaluation.\n",
            "  'Cython evaluation (very fast so highly recommended) is '\n"
          ]
        }
      ]
    },
    {
      "cell_type": "markdown",
      "metadata": {
        "id": "CmbBC0cskPal"
      },
      "source": [
        "### Load data manager"
      ]
    },
    {
      "cell_type": "markdown",
      "metadata": {
        "id": "hdpTylaXkcfT"
      },
      "source": [
        "kích thước ảnh trong data 256 x 128 số lượng ảnh là 12936"
      ]
    },
    {
      "cell_type": "code",
      "metadata": {
        "id": "kkWlCo0bj40K",
        "colab": {
          "base_uri": "https://localhost:8080/"
        },
        "outputId": "d22fb68e-8d23-49b5-c2d8-d855f5c03448"
      },
      "source": [
        "# Load data\n",
        "datamanager = torchreid.data.ImageDataManager(\n",
        "    root='reid-data',\n",
        "    sources='market1501',\n",
        "    targets='market1501',\n",
        "    height=256,\n",
        "    width=128,\n",
        "    batch_size_train=32,\n",
        "    batch_size_test=100,\n",
        "    transforms=['random_flip', 'random_crop']\n",
        ")"
      ],
      "execution_count": 7,
      "outputs": [
        {
          "output_type": "stream",
          "name": "stdout",
          "text": [
            "Building train transforms ...\n",
            "+ resize to 256x128\n",
            "+ random flip\n",
            "+ random crop (enlarge to 288x144 and crop 256x128)\n",
            "+ to torch tensor of range [0, 1]\n",
            "+ normalization (mean=[0.485, 0.456, 0.406], std=[0.229, 0.224, 0.225])\n",
            "Building test transforms ...\n",
            "+ resize to 256x128\n",
            "+ to torch tensor of range [0, 1]\n",
            "+ normalization (mean=[0.485, 0.456, 0.406], std=[0.229, 0.224, 0.225])\n",
            "=> Loading train (source) dataset\n",
            "Creating directory \"/content/deep-person-reid/reid-data/market1501\"\n",
            "Downloading Market1501 dataset to \"/content/deep-person-reid/reid-data/market1501\"\n",
            "* url=\"http://188.138.127.15:81/Datasets/Market-1501-v15.09.15.zip\"\n",
            "* destination=\"/content/deep-person-reid/reid-data/market1501/Market-1501-v15.09.15.zip\"\n",
            "...100%, 145 MB, 3767 KB/s, 39 seconds passed\n",
            "Extracting \"/content/deep-person-reid/reid-data/market1501/Market-1501-v15.09.15.zip\"\n",
            "Market1501 dataset is ready\n",
            "=> Loaded Market1501\n",
            "  ----------------------------------------\n",
            "  subset   | # ids | # images | # cameras\n",
            "  ----------------------------------------\n",
            "  train    |   751 |    12936 |         6\n",
            "  query    |   750 |     3368 |         6\n",
            "  gallery  |   751 |    15913 |         6\n",
            "  ----------------------------------------\n",
            "=> Loading test (target) dataset\n"
          ]
        },
        {
          "output_type": "stream",
          "name": "stderr",
          "text": [
            "/usr/local/lib/python3.7/dist-packages/torch/utils/data/dataloader.py:481: UserWarning: This DataLoader will create 4 worker processes in total. Our suggested max number of worker in current system is 2, which is smaller than what this DataLoader is going to create. Please be aware that excessive worker creation might get DataLoader running slow or even freeze, lower the worker number to avoid potential slowness/freeze if necessary.\n",
            "  cpuset_checked))\n"
          ]
        },
        {
          "output_type": "stream",
          "name": "stdout",
          "text": [
            "=> Loaded Market1501\n",
            "  ----------------------------------------\n",
            "  subset   | # ids | # images | # cameras\n",
            "  ----------------------------------------\n",
            "  train    |   751 |    12936 |         6\n",
            "  query    |   750 |     3368 |         6\n",
            "  gallery  |   751 |    15913 |         6\n",
            "  ----------------------------------------\n",
            "\n",
            "\n",
            "  **************** Summary ****************\n",
            "  source            : ['market1501']\n",
            "  # source datasets : 1\n",
            "  # source ids      : 751\n",
            "  # source images   : 12936\n",
            "  # source cameras  : 6\n",
            "  target            : ['market1501']\n",
            "  *****************************************\n",
            "\n",
            "\n"
          ]
        }
      ]
    },
    {
      "cell_type": "markdown",
      "metadata": {
        "id": "kg0Rp9xrk3z1"
      },
      "source": [
        "### Build model sử dụng model (resnet50)"
      ]
    },
    {
      "cell_type": "markdown",
      "metadata": {
        "id": "6Z0znoPomB9z"
      },
      "source": [
        "nhận dạng nhiều lớp sử dụng loss là softmax nhận dạng 751 lớp "
      ]
    },
    {
      "cell_type": "code",
      "metadata": {
        "id": "jgqZ3JsTmsKw",
        "colab": {
          "base_uri": "https://localhost:8080/"
        },
        "outputId": "5317901b-f189-493e-e969-c54f86fea0d1"
      },
      "source": [
        "num = datamanager.num_train_pids\n",
        "num"
      ],
      "execution_count": 20,
      "outputs": [
        {
          "output_type": "execute_result",
          "data": {
            "text/plain": [
              "751"
            ]
          },
          "metadata": {},
          "execution_count": 20
        }
      ]
    },
    {
      "cell_type": "code",
      "metadata": {
        "id": "IpfJKAAvk6Sx",
        "colab": {
          "base_uri": "https://localhost:8080/",
          "height": 86,
          "referenced_widgets": [
            "22bdb72458674eaf9f59aa612dbbad11",
            "77f8f86ab7534db49cc3edaff447cbd3",
            "47a78d4c38cc4f998ba513495de58686",
            "d38093b8bbb14adb8f66a378ab26d6bc",
            "dfa88faaef094577ad9704718a1284d6",
            "044602bdddb34af78e151a758c4bfa83",
            "35467ca1ff6c4ea59ff682f798a5ce00",
            "8313554e3eeb48d081e62390f337851d",
            "fd46ad880fcc416db6d23eee6f86859f",
            "9d6021fa457a45a3a74369b832061231",
            "a91239bc368e4692b52dcdecb609b654"
          ]
        },
        "outputId": "3c7922f7-f0f7-4492-eccf-cf45864a3f17"
      },
      "source": [
        "model_Resnet50 = torchreid.models.build_model(\n",
        "    name='resnet50',\n",
        "    num_classes=num,\n",
        "    loss='softmax',\n",
        "    pretrained=True\n",
        ")"
      ],
      "execution_count": null,
      "outputs": [
        {
          "output_type": "stream",
          "name": "stderr",
          "text": [
            "Downloading: \"https://download.pytorch.org/models/resnet50-19c8e357.pth\" to /root/.cache/torch/hub/checkpoints/resnet50-19c8e357.pth\n"
          ]
        },
        {
          "output_type": "display_data",
          "data": {
            "application/vnd.jupyter.widget-view+json": {
              "model_id": "22bdb72458674eaf9f59aa612dbbad11",
              "version_minor": 0,
              "version_major": 2
            },
            "text/plain": [
              "  0%|          | 0.00/97.8M [00:00<?, ?B/s]"
            ]
          },
          "metadata": {}
        }
      ]
    },
    {
      "cell_type": "code",
      "metadata": {
        "id": "Au1tTZCG077G"
      },
      "source": [
        "model_Resnet50 = model_Resnet50.cuda()"
      ],
      "execution_count": null,
      "outputs": []
    },
    {
      "cell_type": "markdown",
      "metadata": {
        "id": "DiOyc6dfm_Fu"
      },
      "source": [
        "dùng hàm tối ưu là adam"
      ]
    },
    {
      "cell_type": "code",
      "metadata": {
        "id": "88Q9mlG6tIQs"
      },
      "source": [
        "optimizer = torchreid.optim.build_optimizer(\n",
        "        model_Resnet50,\n",
        "        optim='adam',\n",
        "        lr=0.0003\n",
        ")\n",
        "scheduler = torchreid.optim.build_lr_scheduler(\n",
        "        optimizer,\n",
        "        lr_scheduler='single_step',\n",
        "        stepsize=10 # bước nhảy là 10\n",
        ")"
      ],
      "execution_count": null,
      "outputs": []
    },
    {
      "cell_type": "markdown",
      "metadata": {
        "id": "M9rb3gUKoEdK"
      },
      "source": [
        "### Train model"
      ]
    },
    {
      "cell_type": "code",
      "metadata": {
        "id": "YmOOqExXoGn-",
        "colab": {
          "base_uri": "https://localhost:8080/"
        },
        "outputId": "75036291-0f69-4084-95bb-1fb32a9ea396"
      },
      "source": [
        "# Build engine\n",
        "engine = torchreid.engine.ImageSoftmaxEngine(\n",
        "      datamanager,\n",
        "      model_Resnet50,\n",
        "      optimizer=optimizer,\n",
        "      scheduler=scheduler,\n",
        "      label_smooth=True\n",
        ")\n",
        "# Train\n",
        "engine.run(\n",
        "    save_dir='log/resnet50',\n",
        "    max_epoch=15, # train 15 epoch\n",
        "    eval_freq=10,\n",
        "    print_freq=200, # chạy mỗi lần 200 / 404 \n",
        "    test_only=False\n",
        ")"
      ],
      "execution_count": null,
      "outputs": [
        {
          "output_type": "stream",
          "name": "stdout",
          "text": [
            "=> Start training\n"
          ]
        },
        {
          "output_type": "stream",
          "name": "stderr",
          "text": [
            "/usr/local/lib/python3.7/dist-packages/torch/utils/data/dataloader.py:481: UserWarning: This DataLoader will create 4 worker processes in total. Our suggested max number of worker in current system is 2, which is smaller than what this DataLoader is going to create. Please be aware that excessive worker creation might get DataLoader running slow or even freeze, lower the worker number to avoid potential slowness/freeze if necessary.\n",
            "  cpuset_checked))\n"
          ]
        },
        {
          "output_type": "stream",
          "name": "stdout",
          "text": [
            "epoch: [1/15][200/404]\ttime 0.435 (0.445)\tdata 0.001 (0.003)\teta 0:43:25\tloss 1.2922 (1.3218)\tacc 96.8750 (97.4375)\tlr 0.000030\n",
            "epoch: [1/15][400/404]\ttime 0.441 (0.443)\tdata 0.000 (0.002)\teta 0:41:47\tloss 1.3098 (1.2966)\tacc 96.8750 (97.7656)\tlr 0.000030\n",
            "epoch: [2/15][200/404]\ttime 0.441 (0.444)\tdata 0.001 (0.004)\teta 0:40:23\tloss 1.2658 (1.2394)\tacc 100.0000 (98.9375)\tlr 0.000030\n",
            "epoch: [2/15][400/404]\ttime 0.441 (0.443)\tdata 0.001 (0.002)\teta 0:38:48\tloss 1.2051 (1.2359)\tacc 96.8750 (98.8984)\tlr 0.000030\n",
            "epoch: [3/15][200/404]\ttime 0.438 (0.445)\tdata 0.000 (0.004)\teta 0:37:26\tloss 1.3621 (1.2124)\tacc 93.7500 (99.0938)\tlr 0.000030\n",
            "epoch: [3/15][400/404]\ttime 0.438 (0.443)\tdata 0.000 (0.002)\teta 0:35:49\tloss 1.3002 (1.2140)\tacc 96.8750 (99.0859)\tlr 0.000030\n",
            "epoch: [4/15][200/404]\ttime 0.444 (0.445)\tdata 0.001 (0.004)\teta 0:34:27\tloss 1.2017 (1.1986)\tacc 100.0000 (99.3750)\tlr 0.000030\n",
            "epoch: [4/15][400/404]\ttime 0.443 (0.443)\tdata 0.001 (0.003)\teta 0:32:50\tloss 1.2234 (1.2031)\tacc 100.0000 (99.2891)\tlr 0.000030\n",
            "epoch: [5/15][200/404]\ttime 0.448 (0.445)\tdata 0.002 (0.003)\teta 0:31:26\tloss 1.2188 (1.1893)\tacc 100.0000 (99.5312)\tlr 0.000030\n",
            "epoch: [5/15][400/404]\ttime 0.439 (0.443)\tdata 0.000 (0.002)\teta 0:29:52\tloss 1.1722 (1.1888)\tacc 100.0000 (99.5156)\tlr 0.000030\n",
            "epoch: [6/15][200/404]\ttime 0.435 (0.444)\tdata 0.001 (0.004)\teta 0:28:26\tloss 1.1577 (1.1813)\tacc 100.0000 (99.4688)\tlr 0.000030\n",
            "epoch: [6/15][400/404]\ttime 0.442 (0.443)\tdata 0.001 (0.002)\teta 0:26:51\tloss 1.1765 (1.1818)\tacc 100.0000 (99.5156)\tlr 0.000030\n",
            "epoch: [7/15][200/404]\ttime 0.435 (0.444)\tdata 0.002 (0.004)\teta 0:25:24\tloss 1.2093 (1.1722)\tacc 96.8750 (99.6562)\tlr 0.000030\n",
            "epoch: [7/15][400/404]\ttime 0.439 (0.443)\tdata 0.000 (0.002)\teta 0:23:52\tloss 1.1606 (1.1743)\tacc 100.0000 (99.5781)\tlr 0.000030\n",
            "epoch: [8/15][200/404]\ttime 0.438 (0.444)\tdata 0.001 (0.003)\teta 0:22:27\tloss 1.2156 (1.1649)\tacc 100.0000 (99.5625)\tlr 0.000030\n",
            "epoch: [8/15][400/404]\ttime 0.439 (0.443)\tdata 0.000 (0.002)\teta 0:20:53\tloss 1.1207 (1.1640)\tacc 100.0000 (99.6328)\tlr 0.000030\n",
            "epoch: [9/15][200/404]\ttime 0.445 (0.443)\tdata 0.001 (0.003)\teta 0:19:25\tloss 1.1330 (1.1625)\tacc 100.0000 (99.6719)\tlr 0.000030\n",
            "epoch: [9/15][400/404]\ttime 0.441 (0.442)\tdata 0.000 (0.002)\teta 0:17:53\tloss 1.1467 (1.1612)\tacc 100.0000 (99.7031)\tlr 0.000030\n",
            "epoch: [10/15][200/404]\ttime 0.443 (0.444)\tdata 0.000 (0.004)\teta 0:16:27\tloss 1.1208 (1.1516)\tacc 100.0000 (99.7500)\tlr 0.000030\n",
            "epoch: [10/15][400/404]\ttime 0.442 (0.443)\tdata 0.000 (0.002)\teta 0:14:56\tloss 1.1475 (1.1526)\tacc 100.0000 (99.7734)\tlr 0.000030\n",
            "##### Evaluating market1501 (source) #####\n",
            "Extracting features from query set ...\n",
            "Done, obtained 3368-by-2048 matrix\n",
            "Extracting features from gallery set ...\n",
            "Done, obtained 15913-by-2048 matrix\n",
            "Speed: 0.0235 sec/batch\n",
            "Computing distance matrix with metric=euclidean ...\n",
            "Computing CMC and mAP ...\n",
            "** Results **\n",
            "mAP: 65.9%\n",
            "CMC curve\n",
            "Rank-1  : 84.3%\n",
            "Rank-5  : 93.6%\n",
            "Rank-10 : 95.8%\n",
            "Rank-20 : 97.4%\n",
            "Checkpoint saved to \"log/resnet50/model/model.pth.tar-10\"\n",
            "epoch: [11/15][200/404]\ttime 0.441 (0.446)\tdata 0.001 (0.004)\teta 0:13:31\tloss 1.1050 (1.1413)\tacc 100.0000 (99.7969)\tlr 0.000003\n",
            "epoch: [11/15][400/404]\ttime 0.440 (0.444)\tdata 0.000 (0.003)\teta 0:11:58\tloss 1.1146 (1.1380)\tacc 100.0000 (99.7969)\tlr 0.000003\n",
            "epoch: [12/15][200/404]\ttime 0.444 (0.444)\tdata 0.001 (0.003)\teta 0:10:28\tloss 1.1107 (1.1315)\tacc 100.0000 (99.8906)\tlr 0.000003\n",
            "epoch: [12/15][400/404]\ttime 0.439 (0.443)\tdata 0.000 (0.002)\teta 0:08:58\tloss 1.1259 (1.1316)\tacc 100.0000 (99.8750)\tlr 0.000003\n",
            "epoch: [13/15][200/404]\ttime 0.444 (0.444)\tdata 0.001 (0.003)\teta 0:07:29\tloss 1.1117 (1.1311)\tacc 100.0000 (99.8594)\tlr 0.000003\n",
            "epoch: [13/15][400/404]\ttime 0.439 (0.443)\tdata 0.000 (0.002)\teta 0:05:59\tloss 1.0991 (1.1307)\tacc 100.0000 (99.8984)\tlr 0.000003\n",
            "epoch: [14/15][200/404]\ttime 0.447 (0.445)\tdata 0.001 (0.004)\teta 0:04:30\tloss 1.1219 (1.1338)\tacc 100.0000 (99.8750)\tlr 0.000003\n",
            "epoch: [14/15][400/404]\ttime 0.440 (0.443)\tdata 0.000 (0.002)\teta 0:03:00\tloss 1.1235 (1.1309)\tacc 100.0000 (99.9141)\tlr 0.000003\n",
            "epoch: [15/15][200/404]\ttime 0.444 (0.444)\tdata 0.001 (0.003)\teta 0:01:30\tloss 1.1224 (1.1290)\tacc 100.0000 (99.8750)\tlr 0.000003\n",
            "epoch: [15/15][400/404]\ttime 0.443 (0.443)\tdata 0.000 (0.002)\teta 0:00:01\tloss 1.1512 (1.1294)\tacc 100.0000 (99.8906)\tlr 0.000003\n",
            "=> Final test\n",
            "##### Evaluating market1501 (source) #####\n",
            "Extracting features from query set ...\n",
            "Done, obtained 3368-by-2048 matrix\n",
            "Extracting features from gallery set ...\n",
            "Done, obtained 15913-by-2048 matrix\n",
            "Speed: 0.0241 sec/batch\n",
            "Computing distance matrix with metric=euclidean ...\n",
            "Computing CMC and mAP ...\n",
            "** Results **\n",
            "mAP: 66.4%\n",
            "CMC curve\n",
            "Rank-1  : 84.6%\n",
            "Rank-5  : 93.6%\n",
            "Rank-10 : 96.1%\n",
            "Rank-20 : 97.4%\n",
            "Checkpoint saved to \"log/resnet50/model/model.pth.tar-15\"\n",
            "Elapsed 0:47:51\n"
          ]
        }
      ]
    },
    {
      "cell_type": "markdown",
      "metadata": {
        "id": "5N-ygpO78U9q"
      },
      "source": [
        "## osnet_ain_x0_25"
      ]
    },
    {
      "cell_type": "markdown",
      "metadata": {
        "id": "ZlhGJNmk8U-s"
      },
      "source": [
        "### Build model sử dụng model (osnet_ain_x0_25)"
      ]
    },
    {
      "cell_type": "markdown",
      "metadata": {
        "id": "hsdmrsuU8U-t"
      },
      "source": [
        "nhận dạng nhiều lớp sử dụng loss là softmax nhận dạng 751 lớp "
      ]
    },
    {
      "cell_type": "code",
      "metadata": {
        "colab": {
          "base_uri": "https://localhost:8080/"
        },
        "id": "zmP6LxMF8U-u",
        "outputId": "74928686-e394-4fd2-b348-0b6ce689263c"
      },
      "source": [
        "num = datamanager.num_train_pids\n",
        "num"
      ],
      "execution_count": null,
      "outputs": [
        {
          "output_type": "execute_result",
          "data": {
            "text/plain": [
              "751"
            ]
          },
          "metadata": {},
          "execution_count": 14
        }
      ]
    },
    {
      "cell_type": "code",
      "metadata": {
        "colab": {
          "base_uri": "https://localhost:8080/"
        },
        "id": "ZFmvCmpj8U-v",
        "outputId": "a1e80e58-c6d6-49fb-f1b6-dab78aaa5b08"
      },
      "source": [
        "model_osnet_ain_x0_25 = torchreid.models.build_model(\n",
        "    name='osnet_ain_x0_25',\n",
        "    num_classes=num,\n",
        "    loss='softmax',\n",
        "    pretrained=True\n",
        ")"
      ],
      "execution_count": null,
      "outputs": [
        {
          "output_type": "stream",
          "name": "stderr",
          "text": [
            "Downloading...\n",
            "From: https://drive.google.com/uc?id=1SxQt2AvmEcgWNhaRb2xC4rP6ZwVDP0Wt\n",
            "To: /root/.cache/torch/checkpoints/osnet_ain_x0_25_imagenet.pth\n",
            "100%|██████████| 3.08M/3.08M [00:00<00:00, 81.7MB/s]"
          ]
        },
        {
          "output_type": "stream",
          "name": "stdout",
          "text": [
            "Successfully loaded imagenet pretrained weights from \"/root/.cache/torch/checkpoints/osnet_ain_x0_25_imagenet.pth\"\n",
            "** The following layers are discarded due to unmatched keys or layer size: ['classifier.weight', 'classifier.bias']\n"
          ]
        },
        {
          "output_type": "stream",
          "name": "stderr",
          "text": [
            "\n"
          ]
        }
      ]
    },
    {
      "cell_type": "code",
      "metadata": {
        "id": "hvoRp1KR8U-w"
      },
      "source": [
        "model_osnet_ain_x0_25 = model_osnet_ain_x0_25.cuda()"
      ],
      "execution_count": null,
      "outputs": []
    },
    {
      "cell_type": "markdown",
      "metadata": {
        "id": "mAxMXgx88U-x"
      },
      "source": [
        "dùng hàm tối ưu là adam"
      ]
    },
    {
      "cell_type": "code",
      "metadata": {
        "id": "vXlM71bH8U-y"
      },
      "source": [
        "optimizer = torchreid.optim.build_optimizer(\n",
        "        model_osnet_ain_x0_25,\n",
        "        optim='adam',\n",
        "        lr=0.0003\n",
        ")\n",
        "scheduler = torchreid.optim.build_lr_scheduler(\n",
        "        optimizer,\n",
        "        lr_scheduler='single_step',\n",
        "        stepsize=10 # bước nhảy là 10\n",
        ")"
      ],
      "execution_count": null,
      "outputs": []
    },
    {
      "cell_type": "markdown",
      "metadata": {
        "id": "soJBdvjD8U-0"
      },
      "source": [
        "### Train model"
      ]
    },
    {
      "cell_type": "code",
      "metadata": {
        "colab": {
          "base_uri": "https://localhost:8080/"
        },
        "id": "fRbFiu1s8U-1",
        "outputId": "a4c0e653-1b48-456d-a59e-8f1534e6bc64"
      },
      "source": [
        "# Build engine\n",
        "engine = torchreid.engine.ImageSoftmaxEngine(\n",
        "      datamanager,\n",
        "      model_osnet_ain_x0_25,\n",
        "      optimizer=optimizer,\n",
        "      scheduler=scheduler,\n",
        "      label_smooth=True\n",
        ")\n",
        "# Train\n",
        "engine.run(\n",
        "    save_dir='log/osnet_ain_x0_25',\n",
        "    max_epoch=15, # train 15 epoch\n",
        "    eval_freq=10,\n",
        "    print_freq=200, # chạy mỗi lần 200 / 404 \n",
        "    test_only=False\n",
        ")"
      ],
      "execution_count": null,
      "outputs": [
        {
          "output_type": "stream",
          "name": "stdout",
          "text": [
            "=> Start training\n"
          ]
        },
        {
          "output_type": "stream",
          "name": "stderr",
          "text": [
            "/usr/local/lib/python3.7/dist-packages/torch/utils/data/dataloader.py:481: UserWarning: This DataLoader will create 4 worker processes in total. Our suggested max number of worker in current system is 2, which is smaller than what this DataLoader is going to create. Please be aware that excessive worker creation might get DataLoader running slow or even freeze, lower the worker number to avoid potential slowness/freeze if necessary.\n",
            "  cpuset_checked))\n"
          ]
        },
        {
          "output_type": "stream",
          "name": "stdout",
          "text": [
            "epoch: [1/15][200/404]\ttime 0.185 (0.199)\tdata 0.000 (0.004)\teta 0:19:25\tloss 4.7945 (5.7500)\tacc 25.0000 (10.5938)\tlr 0.000300\n",
            "epoch: [1/15][400/404]\ttime 0.160 (0.196)\tdata 0.000 (0.002)\teta 0:18:31\tloss 3.5532 (4.8909)\tacc 56.2500 (24.0156)\tlr 0.000300\n",
            "epoch: [2/15][200/404]\ttime 0.196 (0.199)\tdata 0.001 (0.003)\teta 0:18:03\tloss 2.4849 (2.6801)\tacc 71.8750 (69.4219)\tlr 0.000300\n",
            "epoch: [2/15][400/404]\ttime 0.162 (0.195)\tdata 0.000 (0.002)\teta 0:17:07\tloss 2.0403 (2.4487)\tacc 84.3750 (74.3516)\tlr 0.000300\n",
            "epoch: [3/15][200/404]\ttime 0.185 (0.198)\tdata 0.000 (0.003)\teta 0:16:37\tloss 1.5891 (1.7682)\tacc 96.8750 (90.3281)\tlr 0.000300\n",
            "epoch: [3/15][400/404]\ttime 0.162 (0.196)\tdata 0.000 (0.002)\teta 0:15:51\tloss 1.6138 (1.7283)\tacc 90.6250 (90.7734)\tlr 0.000300\n",
            "epoch: [4/15][200/404]\ttime 0.184 (0.198)\tdata 0.001 (0.003)\teta 0:15:22\tloss 1.4186 (1.4835)\tacc 100.0000 (96.2812)\tlr 0.000300\n",
            "epoch: [4/15][400/404]\ttime 0.162 (0.195)\tdata 0.000 (0.002)\teta 0:14:27\tloss 1.5354 (1.4908)\tacc 96.8750 (95.7188)\tlr 0.000300\n",
            "epoch: [5/15][200/404]\ttime 0.187 (0.198)\tdata 0.000 (0.003)\teta 0:13:59\tloss 1.3466 (1.3767)\tacc 100.0000 (97.8594)\tlr 0.000300\n",
            "epoch: [5/15][400/404]\ttime 0.159 (0.195)\tdata 0.000 (0.002)\teta 0:13:09\tloss 1.3318 (1.3839)\tacc 100.0000 (97.5469)\tlr 0.000300\n",
            "epoch: [6/15][200/404]\ttime 0.207 (0.198)\tdata 0.001 (0.003)\teta 0:12:40\tloss 1.3649 (1.3025)\tacc 96.8750 (98.7500)\tlr 0.000300\n",
            "epoch: [6/15][400/404]\ttime 0.162 (0.196)\tdata 0.000 (0.002)\teta 0:11:54\tloss 1.3344 (1.3167)\tacc 100.0000 (98.3750)\tlr 0.000300\n",
            "epoch: [7/15][200/404]\ttime 0.189 (0.198)\tdata 0.000 (0.003)\teta 0:11:20\tloss 1.2433 (1.2618)\tacc 100.0000 (99.2500)\tlr 0.000300\n",
            "epoch: [7/15][400/404]\ttime 0.166 (0.196)\tdata 0.000 (0.002)\teta 0:10:34\tloss 1.3111 (1.2771)\tacc 96.8750 (98.8672)\tlr 0.000300\n",
            "epoch: [8/15][200/404]\ttime 0.192 (0.198)\tdata 0.001 (0.003)\teta 0:09:58\tloss 1.2280 (1.2369)\tacc 100.0000 (99.5781)\tlr 0.000300\n",
            "epoch: [8/15][400/404]\ttime 0.167 (0.195)\tdata 0.000 (0.002)\teta 0:09:11\tloss 1.2947 (1.2481)\tacc 100.0000 (99.3125)\tlr 0.000300\n",
            "epoch: [9/15][200/404]\ttime 0.205 (0.198)\tdata 0.001 (0.004)\teta 0:08:39\tloss 1.2605 (1.2168)\tacc 96.8750 (99.3906)\tlr 0.000300\n",
            "epoch: [9/15][400/404]\ttime 0.162 (0.195)\tdata 0.001 (0.002)\teta 0:07:53\tloss 1.3001 (1.2290)\tacc 100.0000 (99.2969)\tlr 0.000300\n",
            "epoch: [10/15][200/404]\ttime 0.208 (0.197)\tdata 0.002 (0.004)\teta 0:07:18\tloss 1.2111 (1.2021)\tacc 100.0000 (99.5781)\tlr 0.000300\n",
            "epoch: [10/15][400/404]\ttime 0.184 (0.196)\tdata 0.000 (0.002)\teta 0:06:36\tloss 1.1666 (1.2112)\tacc 100.0000 (99.5234)\tlr 0.000300\n",
            "##### Evaluating market1501 (source) #####\n",
            "Extracting features from query set ...\n",
            "Done, obtained 3368-by-512 matrix\n",
            "Extracting features from gallery set ...\n",
            "Done, obtained 15913-by-512 matrix\n",
            "Speed: 0.1469 sec/batch\n",
            "Computing distance matrix with metric=euclidean ...\n",
            "Computing CMC and mAP ...\n",
            "** Results **\n",
            "mAP: 47.7%\n",
            "CMC curve\n",
            "Rank-1  : 75.6%\n",
            "Rank-5  : 88.7%\n",
            "Rank-10 : 93.1%\n",
            "Rank-20 : 95.7%\n",
            "Checkpoint saved to \"log/osnet_ain_x0_25/model/model.pth.tar-10\"\n",
            "epoch: [11/15][200/404]\ttime 0.203 (0.198)\tdata 0.001 (0.004)\teta 0:06:00\tloss 1.1687 (1.1643)\tacc 100.0000 (99.8281)\tlr 0.000030\n",
            "epoch: [11/15][400/404]\ttime 0.161 (0.196)\tdata 0.000 (0.002)\teta 0:05:17\tloss 1.1770 (1.1611)\tacc 100.0000 (99.8828)\tlr 0.000030\n",
            "epoch: [12/15][200/404]\ttime 0.196 (0.199)\tdata 0.000 (0.003)\teta 0:04:41\tloss 1.1509 (1.1499)\tacc 100.0000 (99.9375)\tlr 0.000030\n",
            "epoch: [12/15][400/404]\ttime 0.164 (0.197)\tdata 0.000 (0.002)\teta 0:03:59\tloss 1.1471 (1.1506)\tacc 100.0000 (99.9219)\tlr 0.000030\n",
            "epoch: [13/15][200/404]\ttime 0.195 (0.199)\tdata 0.000 (0.003)\teta 0:03:21\tloss 1.1399 (1.1458)\tacc 100.0000 (99.9531)\tlr 0.000030\n",
            "epoch: [13/15][400/404]\ttime 0.164 (0.197)\tdata 0.000 (0.002)\teta 0:02:39\tloss 1.1985 (1.1475)\tacc 96.8750 (99.9219)\tlr 0.000030\n",
            "epoch: [14/15][200/404]\ttime 0.192 (0.200)\tdata 0.001 (0.004)\teta 0:02:01\tloss 1.1434 (1.1462)\tacc 100.0000 (99.8906)\tlr 0.000030\n",
            "epoch: [14/15][400/404]\ttime 0.162 (0.197)\tdata 0.000 (0.002)\teta 0:01:20\tloss 1.1703 (1.1465)\tacc 100.0000 (99.9062)\tlr 0.000030\n",
            "epoch: [15/15][200/404]\ttime 0.217 (0.199)\tdata 0.000 (0.004)\teta 0:00:40\tloss 1.1429 (1.1450)\tacc 100.0000 (99.9219)\tlr 0.000030\n",
            "epoch: [15/15][400/404]\ttime 0.168 (0.197)\tdata 0.000 (0.002)\teta 0:00:00\tloss 1.1581 (1.1458)\tacc 100.0000 (99.8984)\tlr 0.000030\n",
            "=> Final test\n",
            "##### Evaluating market1501 (source) #####\n",
            "Extracting features from query set ...\n",
            "Done, obtained 3368-by-512 matrix\n",
            "Extracting features from gallery set ...\n",
            "Done, obtained 15913-by-512 matrix\n",
            "Speed: 0.1410 sec/batch\n",
            "Computing distance matrix with metric=euclidean ...\n",
            "Computing CMC and mAP ...\n",
            "** Results **\n",
            "mAP: 49.3%\n",
            "CMC curve\n",
            "Rank-1  : 76.8%\n",
            "Rank-5  : 90.0%\n",
            "Rank-10 : 93.4%\n",
            "Rank-20 : 95.7%\n",
            "Checkpoint saved to \"log/osnet_ain_x0_25/model/model.pth.tar-15\"\n",
            "Elapsed 0:21:26\n"
          ]
        }
      ]
    },
    {
      "cell_type": "markdown",
      "metadata": {
        "id": "UtEW3DJa8pZ3"
      },
      "source": [
        "## osnet_ain_x1_0"
      ]
    },
    {
      "cell_type": "markdown",
      "metadata": {
        "id": "n0aEieF-8paq"
      },
      "source": [
        "### Build model sử dụng model (osnet_ain_x1_0)"
      ]
    },
    {
      "cell_type": "markdown",
      "metadata": {
        "id": "VVh3DTNa8par"
      },
      "source": [
        "nhận dạng nhiều lớp sử dụng loss là softmax nhận dạng 751 lớp "
      ]
    },
    {
      "cell_type": "code",
      "metadata": {
        "colab": {
          "base_uri": "https://localhost:8080/"
        },
        "id": "JuThTnzV8pau",
        "outputId": "29812063-2e90-42bd-f9c6-3a9dd455bebf"
      },
      "source": [
        "num = datamanager.num_train_pids\n",
        "num"
      ],
      "execution_count": null,
      "outputs": [
        {
          "output_type": "execute_result",
          "data": {
            "text/plain": [
              "751"
            ]
          },
          "metadata": {},
          "execution_count": 19
        }
      ]
    },
    {
      "cell_type": "code",
      "metadata": {
        "colab": {
          "base_uri": "https://localhost:8080/"
        },
        "id": "3vHimi0J8pax",
        "outputId": "594e21fd-96dd-4995-8c40-29e9041f6c4b"
      },
      "source": [
        "model_osnet_ain_x1_0 = torchreid.models.build_model(\n",
        "    name='osnet_ain_x1_0',\n",
        "    num_classes=num,\n",
        "    loss='softmax',\n",
        "    pretrained=True\n",
        ")"
      ],
      "execution_count": null,
      "outputs": [
        {
          "output_type": "stream",
          "name": "stderr",
          "text": [
            "Downloading...\n",
            "From: https://drive.google.com/uc?id=1-CaioD9NaqbHK_kzSMW8VE4_3KcsRjEo\n",
            "To: /root/.cache/torch/checkpoints/osnet_ain_x1_0_imagenet.pth\n",
            "100%|██████████| 10.9M/10.9M [00:00<00:00, 130MB/s]\n"
          ]
        },
        {
          "output_type": "stream",
          "name": "stdout",
          "text": [
            "Successfully loaded imagenet pretrained weights from \"/root/.cache/torch/checkpoints/osnet_ain_x1_0_imagenet.pth\"\n",
            "** The following layers are discarded due to unmatched keys or layer size: ['classifier.weight', 'classifier.bias']\n"
          ]
        }
      ]
    },
    {
      "cell_type": "code",
      "metadata": {
        "id": "7cdVIaF58paz"
      },
      "source": [
        "model_osnet_ain_x1_0 = model_osnet_ain_x1_0.cuda()"
      ],
      "execution_count": null,
      "outputs": []
    },
    {
      "cell_type": "markdown",
      "metadata": {
        "id": "htd_G0J68pa0"
      },
      "source": [
        "dùng hàm tối ưu là adam"
      ]
    },
    {
      "cell_type": "code",
      "metadata": {
        "id": "CSu_iiGk8pa1"
      },
      "source": [
        "optimizer = torchreid.optim.build_optimizer(\n",
        "        model_osnet_ain_x1_0,\n",
        "        optim='adam',\n",
        "        lr=0.0003\n",
        ")\n",
        "scheduler = torchreid.optim.build_lr_scheduler(\n",
        "        optimizer,\n",
        "        lr_scheduler='single_step',\n",
        "        stepsize=10 # bước nhảy là 10\n",
        ")"
      ],
      "execution_count": null,
      "outputs": []
    },
    {
      "cell_type": "markdown",
      "metadata": {
        "id": "0k175G2T8pa3"
      },
      "source": [
        "### Train model"
      ]
    },
    {
      "cell_type": "code",
      "metadata": {
        "colab": {
          "base_uri": "https://localhost:8080/"
        },
        "id": "zO7RFZDo8pa4",
        "outputId": "2854dea6-bb9e-46b5-9683-0e0eed746748"
      },
      "source": [
        "# Build engine\n",
        "engine = torchreid.engine.ImageSoftmaxEngine(\n",
        "      datamanager,\n",
        "      model_osnet_ain_x1_0,\n",
        "      optimizer=optimizer,\n",
        "      scheduler=scheduler,\n",
        "      label_smooth=True\n",
        ")\n",
        "\n",
        "# Train\n",
        "engine.run(\n",
        "    save_dir='log/osnet_ain_x1_0',\n",
        "    max_epoch=15, # train 15 epoch\n",
        "    eval_freq=10,\n",
        "    print_freq=200, # chạy mỗi lần 200 / 404 \n",
        "    test_only=False\n",
        ")"
      ],
      "execution_count": null,
      "outputs": [
        {
          "metadata": {
            "tags": null
          },
          "name": "stdout",
          "output_type": "stream",
          "text": [
            "=> Start training\n"
          ]
        },
        {
          "metadata": {
            "tags": null
          },
          "name": "stderr",
          "output_type": "stream",
          "text": [
            "/usr/local/lib/python3.7/dist-packages/torch/utils/data/dataloader.py:481: UserWarning: This DataLoader will create 4 worker processes in total. Our suggested max number of worker in current system is 2, which is smaller than what this DataLoader is going to create. Please be aware that excessive worker creation might get DataLoader running slow or even freeze, lower the worker number to avoid potential slowness/freeze if necessary.\n",
            "  cpuset_checked))\n"
          ]
        },
        {
          "output_type": "stream",
          "name": "stdout",
          "text": [
            "epoch: [1/15][200/404]\ttime 0.486 (0.490)\tdata 0.001 (0.003)\teta 0:47:51\tloss 4.7946 (5.7737)\tacc 25.0000 (9.7969)\tlr 0.000300\n",
            "epoch: [1/15][400/404]\ttime 0.481 (0.488)\tdata 0.000 (0.002)\teta 0:46:00\tloss 3.1229 (4.8238)\tacc 59.3750 (25.7109)\tlr 0.000300\n",
            "epoch: [2/15][200/404]\ttime 0.487 (0.490)\tdata 0.001 (0.004)\teta 0:44:32\tloss 2.1085 (2.4404)\tacc 81.2500 (74.2031)\tlr 0.000300\n",
            "epoch: [2/15][400/404]\ttime 0.482 (0.488)\tdata 0.001 (0.002)\teta 0:42:43\tloss 1.5885 (2.1629)\tacc 93.7500 (80.2969)\tlr 0.000300\n",
            "epoch: [3/15][200/404]\ttime 0.484 (0.489)\tdata 0.002 (0.004)\teta 0:41:12\tloss 1.3595 (1.4821)\tacc 96.8750 (94.9844)\tlr 0.000300\n",
            "epoch: [3/15][400/404]\ttime 0.484 (0.488)\tdata 0.000 (0.002)\teta 0:39:26\tloss 1.3487 (1.4502)\tacc 96.8750 (95.4219)\tlr 0.000300\n",
            "epoch: [4/15][200/404]\ttime 0.486 (0.489)\tdata 0.002 (0.004)\teta 0:37:52\tloss 1.2198 (1.2659)\tacc 100.0000 (98.5000)\tlr 0.000300\n",
            "epoch: [4/15][400/404]\ttime 0.487 (0.487)\tdata 0.000 (0.002)\teta 0:36:07\tloss 1.2556 (1.2672)\tacc 100.0000 (98.3750)\tlr 0.000300\n",
            "epoch: [5/15][200/404]\ttime 0.484 (0.489)\tdata 0.001 (0.004)\teta 0:34:35\tloss 1.1672 (1.1925)\tacc 100.0000 (99.3281)\tlr 0.000300\n",
            "epoch: [5/15][400/404]\ttime 0.478 (0.487)\tdata 0.000 (0.002)\teta 0:32:51\tloss 1.1607 (1.2011)\tacc 100.0000 (99.1328)\tlr 0.000300\n",
            "epoch: [6/15][200/404]\ttime 0.484 (0.490)\tdata 0.001 (0.004)\teta 0:31:20\tloss 1.1324 (1.1598)\tacc 100.0000 (99.5625)\tlr 0.000300\n",
            "epoch: [6/15][400/404]\ttime 0.485 (0.488)\tdata 0.000 (0.002)\teta 0:29:34\tloss 1.2496 (1.1671)\tacc 100.0000 (99.4688)\tlr 0.000300\n",
            "epoch: [7/15][200/404]\ttime 0.485 (0.490)\tdata 0.001 (0.004)\teta 0:28:04\tloss 1.1713 (1.1371)\tacc 96.8750 (99.6250)\tlr 0.000300\n",
            "epoch: [7/15][400/404]\ttime 0.485 (0.488)\tdata 0.000 (0.003)\teta 0:26:18\tloss 1.1428 (1.1503)\tacc 100.0000 (99.4531)\tlr 0.000300\n",
            "epoch: [8/15][200/404]\ttime 0.482 (0.488)\tdata 0.002 (0.003)\teta 0:24:41\tloss 1.1279 (1.1260)\tacc 100.0000 (99.8750)\tlr 0.000300\n",
            "epoch: [8/15][400/404]\ttime 0.481 (0.487)\tdata 0.000 (0.002)\teta 0:22:59\tloss 1.1250 (1.1363)\tacc 100.0000 (99.6406)\tlr 0.000300\n",
            "epoch: [9/15][200/404]\ttime 0.494 (0.488)\tdata 0.001 (0.004)\teta 0:21:22\tloss 1.0906 (1.1246)\tacc 100.0000 (99.7656)\tlr 0.000300\n",
            "epoch: [9/15][400/404]\ttime 0.486 (0.486)\tdata 0.000 (0.002)\teta 0:19:40\tloss 1.1169 (1.1311)\tacc 100.0000 (99.6641)\tlr 0.000300\n",
            "epoch: [10/15][200/404]\ttime 0.481 (0.489)\tdata 0.001 (0.004)\teta 0:18:07\tloss 1.0899 (1.1146)\tacc 100.0000 (99.8125)\tlr 0.000300\n",
            "epoch: [10/15][400/404]\ttime 0.481 (0.487)\tdata 0.000 (0.002)\teta 0:16:25\tloss 1.1001 (1.1237)\tacc 100.0000 (99.7578)\tlr 0.000300\n",
            "##### Evaluating market1501 (source) #####\n",
            "Extracting features from query set ...\n",
            "Done, obtained 3368-by-512 matrix\n",
            "Extracting features from gallery set ...\n",
            "Done, obtained 15913-by-512 matrix\n",
            "Speed: 0.0567 sec/batch\n",
            "Computing distance matrix with metric=euclidean ...\n",
            "Computing CMC and mAP ...\n",
            "** Results **\n",
            "mAP: 68.7%\n",
            "CMC curve\n",
            "Rank-1  : 88.3%\n",
            "Rank-5  : 95.0%\n",
            "Rank-10 : 96.8%\n",
            "Rank-20 : 98.1%\n",
            "Checkpoint saved to \"log/osnet_ain_x1_0/model/model.pth.tar-10\"\n",
            "epoch: [11/15][200/404]\ttime 0.478 (0.489)\tdata 0.001 (0.004)\teta 0:14:49\tloss 1.0761 (1.0860)\tacc 100.0000 (99.9062)\tlr 0.000030\n",
            "epoch: [11/15][400/404]\ttime 0.481 (0.486)\tdata 0.000 (0.002)\teta 0:13:07\tloss 1.0801 (1.0785)\tacc 100.0000 (99.9453)\tlr 0.000030\n",
            "epoch: [12/15][200/404]\ttime 0.480 (0.487)\tdata 0.001 (0.004)\teta 0:11:28\tloss 1.0549 (1.0617)\tacc 100.0000 (99.9688)\tlr 0.000030\n",
            "epoch: [12/15][400/404]\ttime 0.481 (0.485)\tdata 0.000 (0.002)\teta 0:09:49\tloss 1.0728 (1.0614)\tacc 100.0000 (99.9766)\tlr 0.000030\n",
            "epoch: [13/15][200/404]\ttime 0.483 (0.487)\tdata 0.001 (0.004)\teta 0:08:13\tloss 1.0590 (1.0563)\tacc 100.0000 (99.9844)\tlr 0.000030\n",
            "epoch: [13/15][400/404]\ttime 0.481 (0.486)\tdata 0.000 (0.002)\teta 0:06:34\tloss 1.0667 (1.0569)\tacc 100.0000 (99.9922)\tlr 0.000030\n",
            "epoch: [14/15][200/404]\ttime 0.480 (0.487)\tdata 0.000 (0.004)\teta 0:04:55\tloss 1.0589 (1.0521)\tacc 100.0000 (100.0000)\tlr 0.000030\n",
            "epoch: [14/15][400/404]\ttime 0.479 (0.485)\tdata 0.000 (0.002)\teta 0:03:17\tloss 1.0571 (1.0540)\tacc 100.0000 (99.9922)\tlr 0.000030\n",
            "epoch: [15/15][200/404]\ttime 0.479 (0.488)\tdata 0.001 (0.004)\teta 0:01:39\tloss 1.0459 (1.0498)\tacc 100.0000 (100.0000)\tlr 0.000030\n",
            "epoch: [15/15][400/404]\ttime 0.480 (0.486)\tdata 0.001 (0.002)\teta 0:00:01\tloss 1.0517 (1.0514)\tacc 100.0000 (100.0000)\tlr 0.000030\n",
            "=> Final test\n",
            "##### Evaluating market1501 (source) #####\n",
            "Extracting features from query set ...\n",
            "Done, obtained 3368-by-512 matrix\n",
            "Extracting features from gallery set ...\n",
            "Done, obtained 15913-by-512 matrix\n",
            "Speed: 0.0559 sec/batch\n",
            "Computing distance matrix with metric=euclidean ...\n",
            "Computing CMC and mAP ...\n",
            "** Results **\n",
            "mAP: 72.5%\n",
            "CMC curve\n",
            "Rank-1  : 89.9%\n",
            "Rank-5  : 96.0%\n",
            "Rank-10 : 97.4%\n",
            "Rank-20 : 98.4%\n",
            "Checkpoint saved to \"log/osnet_ain_x1_0/model/model.pth.tar-15\"\n",
            "Elapsed 0:52:03\n"
          ]
        }
      ]
    },
    {
      "cell_type": "markdown",
      "metadata": {
        "id": "EqO0LOHI9Ide"
      },
      "source": [
        "## osnet_ibn_x1_0"
      ]
    },
    {
      "cell_type": "markdown",
      "metadata": {
        "id": "-Ilm6JuC9IeD"
      },
      "source": [
        "### Build model sử dụng model (osnet_ibn_x1_0)"
      ]
    },
    {
      "cell_type": "markdown",
      "metadata": {
        "id": "HAodgzJ09IeE"
      },
      "source": [
        "nhận dạng nhiều lớp sử dụng loss là softmax nhận dạng 751 lớp "
      ]
    },
    {
      "cell_type": "code",
      "metadata": {
        "colab": {
          "base_uri": "https://localhost:8080/"
        },
        "id": "Dv-8gHzj9IeF",
        "outputId": "f436701f-525a-4b63-aa74-cfb3bc8f8516"
      },
      "source": [
        "num = datamanager.num_train_pids\n",
        "num"
      ],
      "execution_count": null,
      "outputs": [
        {
          "output_type": "execute_result",
          "data": {
            "text/plain": [
              "751"
            ]
          },
          "metadata": {},
          "execution_count": 29
        }
      ]
    },
    {
      "cell_type": "code",
      "metadata": {
        "colab": {
          "base_uri": "https://localhost:8080/"
        },
        "id": "Dq4LakRT9IeH",
        "outputId": "8df848b9-48d6-4850-e031-e169ff1446ac"
      },
      "source": [
        "model_osnet_ibn_x1_0 = torchreid.models.build_model(\n",
        "    name='osnet_ibn_x1_0',\n",
        "    num_classes=num,\n",
        "    loss='softmax',\n",
        "    pretrained=True\n",
        ")"
      ],
      "execution_count": null,
      "outputs": [
        {
          "output_type": "stream",
          "name": "stderr",
          "text": [
            "Downloading...\n",
            "From: https://drive.google.com/uc?id=1sr90V6irlYYDd4_4ISU2iruoRG8J__6l\n",
            "To: /root/.cache/torch/checkpoints/osnet_ibn_x1_0_imagenet.pth\n",
            "100%|██████████| 10.9M/10.9M [00:00<00:00, 148MB/s]"
          ]
        },
        {
          "output_type": "stream",
          "name": "stdout",
          "text": [
            "Successfully loaded imagenet pretrained weights from \"/root/.cache/torch/checkpoints/osnet_ibn_x1_0_imagenet.pth\"\n",
            "** The following layers are discarded due to unmatched keys or layer size: ['classifier.weight', 'classifier.bias']\n"
          ]
        },
        {
          "output_type": "stream",
          "name": "stderr",
          "text": [
            "\n"
          ]
        }
      ]
    },
    {
      "cell_type": "code",
      "metadata": {
        "id": "2ptcveiV9IeJ"
      },
      "source": [
        "model_osnet_ibn_x1_0 = model_osnet_ibn_x1_0.cuda()"
      ],
      "execution_count": null,
      "outputs": []
    },
    {
      "cell_type": "markdown",
      "metadata": {
        "id": "ZT4gavTq9IeK"
      },
      "source": [
        "dùng hàm tối ưu là adam"
      ]
    },
    {
      "cell_type": "code",
      "metadata": {
        "id": "rx3tvohq9IeL"
      },
      "source": [
        "optimizer = torchreid.optim.build_optimizer(\n",
        "        model_osnet_ibn_x1_0,\n",
        "        optim='adam',\n",
        "        lr=0.0003\n",
        ")\n",
        "scheduler = torchreid.optim.build_lr_scheduler(\n",
        "        optimizer,\n",
        "        lr_scheduler='single_step',\n",
        "        stepsize=10 # bước nhảy là 10\n",
        ")"
      ],
      "execution_count": null,
      "outputs": []
    },
    {
      "cell_type": "markdown",
      "metadata": {
        "id": "IsSNftQ99IeM"
      },
      "source": [
        "### Train model"
      ]
    },
    {
      "cell_type": "code",
      "metadata": {
        "colab": {
          "base_uri": "https://localhost:8080/"
        },
        "id": "Tv1Zo-gV9IeN",
        "outputId": "b32a5fa7-3385-483e-efc2-96cf10e174cf"
      },
      "source": [
        "# Build engine\n",
        "engine = torchreid.engine.ImageSoftmaxEngine(\n",
        "      datamanager,\n",
        "      model_osnet_ibn_x1_0,\n",
        "      optimizer=optimizer,\n",
        "      scheduler=scheduler,\n",
        "      label_smooth=True\n",
        ")\n",
        "# Train\n",
        "engine.run(\n",
        "    save_dir='log/osnet_ibn_x1_0',\n",
        "    max_epoch=15, # train 15 epoch\n",
        "    eval_freq=10,\n",
        "    print_freq=200, # chạy mỗi lần 200 / 404 \n",
        "    test_only=False\n",
        ")"
      ],
      "execution_count": null,
      "outputs": [
        {
          "metadata": {
            "tags": null
          },
          "name": "stdout",
          "output_type": "stream",
          "text": [
            "=> Start training\n"
          ]
        },
        {
          "metadata": {
            "tags": null
          },
          "name": "stderr",
          "output_type": "stream",
          "text": [
            "/usr/local/lib/python3.7/dist-packages/torch/utils/data/dataloader.py:481: UserWarning: This DataLoader will create 4 worker processes in total. Our suggested max number of worker in current system is 2, which is smaller than what this DataLoader is going to create. Please be aware that excessive worker creation might get DataLoader running slow or even freeze, lower the worker number to avoid potential slowness/freeze if necessary.\n",
            "  cpuset_checked))\n"
          ]
        },
        {
          "output_type": "stream",
          "name": "stdout",
          "text": [
            "epoch: [1/15][200/404]\ttime 0.490 (0.496)\tdata 0.000 (0.004)\teta 0:48:26\tloss 5.1432 (5.9260)\tacc 18.7500 (7.7969)\tlr 0.000300\n",
            "epoch: [1/15][400/404]\ttime 0.485 (0.493)\tdata 0.000 (0.002)\teta 0:46:32\tloss 3.6579 (5.0099)\tacc 43.7500 (22.1719)\tlr 0.000300\n",
            "epoch: [2/15][200/404]\ttime 0.484 (0.496)\tdata 0.001 (0.004)\teta 0:45:05\tloss 2.1382 (2.6203)\tacc 81.2500 (70.6875)\tlr 0.000300\n",
            "epoch: [2/15][400/404]\ttime 0.488 (0.494)\tdata 0.000 (0.002)\teta 0:43:18\tloss 2.0223 (2.3016)\tacc 78.1250 (77.5391)\tlr 0.000300\n",
            "epoch: [3/15][200/404]\ttime 0.498 (0.497)\tdata 0.001 (0.003)\teta 0:41:48\tloss 1.4929 (1.5182)\tacc 100.0000 (94.2344)\tlr 0.000300\n",
            "epoch: [3/15][400/404]\ttime 0.488 (0.495)\tdata 0.001 (0.002)\teta 0:40:00\tloss 1.4888 (1.4830)\tacc 93.7500 (94.5781)\tlr 0.000300\n",
            "epoch: [4/15][200/404]\ttime 0.497 (0.498)\tdata 0.000 (0.003)\teta 0:38:35\tloss 1.2127 (1.2805)\tacc 100.0000 (98.4844)\tlr 0.000300\n",
            "epoch: [4/15][400/404]\ttime 0.485 (0.495)\tdata 0.000 (0.002)\teta 0:36:43\tloss 1.3090 (1.2804)\tacc 96.8750 (98.2578)\tlr 0.000300\n",
            "epoch: [5/15][200/404]\ttime 0.494 (0.497)\tdata 0.001 (0.004)\teta 0:35:09\tloss 1.1931 (1.2042)\tacc 100.0000 (99.2344)\tlr 0.000300\n",
            "epoch: [5/15][400/404]\ttime 0.486 (0.494)\tdata 0.000 (0.002)\teta 0:33:18\tloss 1.2064 (1.2105)\tacc 100.0000 (99.0625)\tlr 0.000300\n",
            "epoch: [6/15][200/404]\ttime 0.488 (0.497)\tdata 0.001 (0.004)\teta 0:31:47\tloss 1.1160 (1.1619)\tacc 100.0000 (99.4375)\tlr 0.000300\n",
            "epoch: [6/15][400/404]\ttime 0.488 (0.494)\tdata 0.000 (0.002)\teta 0:29:58\tloss 1.1799 (1.1717)\tacc 100.0000 (99.3594)\tlr 0.000300\n",
            "epoch: [7/15][200/404]\ttime 0.500 (0.494)\tdata 0.000 (0.003)\teta 0:28:18\tloss 1.1984 (1.1483)\tacc 96.8750 (99.4688)\tlr 0.000300\n",
            "epoch: [7/15][400/404]\ttime 0.486 (0.493)\tdata 0.000 (0.002)\teta 0:26:34\tloss 1.1196 (1.1524)\tacc 100.0000 (99.4844)\tlr 0.000300\n",
            "epoch: [8/15][200/404]\ttime 0.488 (0.495)\tdata 0.001 (0.004)\teta 0:25:00\tloss 1.1785 (1.1336)\tacc 100.0000 (99.6406)\tlr 0.000300\n",
            "epoch: [8/15][400/404]\ttime 0.489 (0.493)\tdata 0.000 (0.003)\teta 0:23:17\tloss 1.1881 (1.1405)\tacc 100.0000 (99.5703)\tlr 0.000300\n",
            "epoch: [9/15][200/404]\ttime 0.488 (0.496)\tdata 0.001 (0.004)\teta 0:21:42\tloss 1.1549 (1.1275)\tacc 100.0000 (99.7188)\tlr 0.000300\n",
            "epoch: [9/15][400/404]\ttime 0.485 (0.494)\tdata 0.001 (0.002)\teta 0:19:58\tloss 1.1853 (1.1337)\tacc 96.8750 (99.6719)\tlr 0.000300\n",
            "epoch: [10/15][200/404]\ttime 0.498 (0.497)\tdata 0.001 (0.004)\teta 0:18:25\tloss 1.1163 (1.1191)\tacc 100.0000 (99.7188)\tlr 0.000300\n",
            "epoch: [10/15][400/404]\ttime 0.487 (0.495)\tdata 0.000 (0.002)\teta 0:16:41\tloss 1.1595 (1.1264)\tacc 100.0000 (99.5859)\tlr 0.000300\n",
            "##### Evaluating market1501 (source) #####\n",
            "Extracting features from query set ...\n",
            "Done, obtained 3368-by-512 matrix\n",
            "Extracting features from gallery set ...\n",
            "Done, obtained 15913-by-512 matrix\n",
            "Speed: 0.0531 sec/batch\n",
            "Computing distance matrix with metric=euclidean ...\n",
            "Computing CMC and mAP ...\n",
            "** Results **\n",
            "mAP: 67.0%\n",
            "CMC curve\n",
            "Rank-1  : 86.5%\n",
            "Rank-5  : 95.1%\n",
            "Rank-10 : 97.1%\n",
            "Rank-20 : 98.2%\n",
            "Checkpoint saved to \"log/osnet_ibn_x1_0/model/model.pth.tar-10\"\n",
            "epoch: [11/15][200/404]\ttime 0.486 (0.496)\tdata 0.001 (0.004)\teta 0:15:01\tloss 1.0661 (1.0891)\tacc 100.0000 (99.9062)\tlr 0.000030\n",
            "epoch: [11/15][400/404]\ttime 0.488 (0.493)\tdata 0.000 (0.002)\teta 0:13:18\tloss 1.0709 (1.0806)\tacc 100.0000 (99.9375)\tlr 0.000030\n",
            "epoch: [12/15][200/404]\ttime 0.489 (0.492)\tdata 0.000 (0.003)\teta 0:11:37\tloss 1.0622 (1.0632)\tacc 100.0000 (100.0000)\tlr 0.000030\n",
            "epoch: [12/15][400/404]\ttime 0.483 (0.490)\tdata 0.000 (0.002)\teta 0:09:56\tloss 1.0755 (1.0626)\tacc 100.0000 (99.9844)\tlr 0.000030\n",
            "epoch: [13/15][200/404]\ttime 0.486 (0.493)\tdata 0.000 (0.004)\teta 0:08:19\tloss 1.0745 (1.0557)\tacc 96.8750 (99.9844)\tlr 0.000030\n",
            "epoch: [13/15][400/404]\ttime 0.483 (0.497)\tdata 0.000 (0.002)\teta 0:06:43\tloss 1.0639 (1.0575)\tacc 100.0000 (99.9922)\tlr 0.000030\n",
            "epoch: [14/15][200/404]\ttime 0.490 (0.500)\tdata 0.001 (0.004)\teta 0:05:04\tloss 1.0846 (1.0536)\tacc 100.0000 (100.0000)\tlr 0.000030\n",
            "epoch: [14/15][400/404]\ttime 0.482 (0.499)\tdata 0.000 (0.002)\teta 0:03:23\tloss 1.0504 (1.0544)\tacc 100.0000 (100.0000)\tlr 0.000030\n",
            "epoch: [15/15][200/404]\ttime 0.489 (0.500)\tdata 0.000 (0.004)\teta 0:01:42\tloss 1.0409 (1.0505)\tacc 100.0000 (100.0000)\tlr 0.000030\n",
            "epoch: [15/15][400/404]\ttime 0.487 (0.497)\tdata 0.000 (0.002)\teta 0:00:01\tloss 1.0671 (1.0520)\tacc 100.0000 (99.9922)\tlr 0.000030\n",
            "=> Final test\n",
            "##### Evaluating market1501 (source) #####\n",
            "Extracting features from query set ...\n",
            "Done, obtained 3368-by-512 matrix\n",
            "Extracting features from gallery set ...\n",
            "Done, obtained 15913-by-512 matrix\n",
            "Speed: 0.0528 sec/batch\n",
            "Computing distance matrix with metric=euclidean ...\n",
            "Computing CMC and mAP ...\n",
            "** Results **\n",
            "mAP: 71.4%\n",
            "CMC curve\n",
            "Rank-1  : 88.8%\n",
            "Rank-5  : 95.5%\n",
            "Rank-10 : 97.4%\n",
            "Rank-20 : 98.4%\n",
            "Checkpoint saved to \"log/osnet_ibn_x1_0/model/model.pth.tar-15\"\n",
            "Elapsed 0:52:48\n"
          ]
        }
      ]
    },
    {
      "cell_type": "markdown",
      "metadata": {
        "id": "cNbyr9289dYs"
      },
      "source": [
        "## osnet_x0_25"
      ]
    },
    {
      "cell_type": "markdown",
      "metadata": {
        "id": "HG9KmmiB9dZR"
      },
      "source": [
        "### Build model sử dụng model (osnet_x0_25)"
      ]
    },
    {
      "cell_type": "markdown",
      "metadata": {
        "id": "0rCc5jwG9dZS"
      },
      "source": [
        "nhận dạng nhiều lớp sử dụng loss là softmax nhận dạng 751 lớp "
      ]
    },
    {
      "cell_type": "code",
      "metadata": {
        "colab": {
          "base_uri": "https://localhost:8080/"
        },
        "id": "YLBQK7mI9dZT",
        "outputId": "7c23b054-07c8-49ab-c7c1-116b9f644a3b"
      },
      "source": [
        "num = datamanager.num_train_pids\n",
        "num"
      ],
      "execution_count": null,
      "outputs": [
        {
          "output_type": "execute_result",
          "data": {
            "text/plain": [
              "751"
            ]
          },
          "metadata": {},
          "execution_count": 30
        }
      ]
    },
    {
      "cell_type": "code",
      "metadata": {
        "colab": {
          "base_uri": "https://localhost:8080/"
        },
        "id": "xPzw-ZAG9dZV",
        "outputId": "1c49c196-5b1c-4b3e-9447-da2952c5639f"
      },
      "source": [
        "model_osnet_x0_25 = torchreid.models.build_model(\n",
        "    name='osnet_x0_25',\n",
        "    num_classes=num,\n",
        "    loss='softmax',\n",
        "    pretrained=True\n",
        ")"
      ],
      "execution_count": null,
      "outputs": [
        {
          "output_type": "stream",
          "name": "stderr",
          "text": [
            "Downloading...\n",
            "From: https://drive.google.com/uc?id=1rb8UN5ZzPKRc_xvtHlyDh-cSz88YX9hs\n",
            "To: /root/.cache/torch/checkpoints/osnet_x0_25_imagenet.pth\n",
            "100%|██████████| 2.97M/2.97M [00:00<00:00, 84.9MB/s]"
          ]
        },
        {
          "output_type": "stream",
          "name": "stdout",
          "text": [
            "Successfully loaded imagenet pretrained weights from \"/root/.cache/torch/checkpoints/osnet_x0_25_imagenet.pth\"\n",
            "** The following layers are discarded due to unmatched keys or layer size: ['classifier.weight', 'classifier.bias']\n"
          ]
        },
        {
          "output_type": "stream",
          "name": "stderr",
          "text": [
            "\n"
          ]
        }
      ]
    },
    {
      "cell_type": "code",
      "metadata": {
        "id": "vXUsDLhk9dZX"
      },
      "source": [
        "model_osnet_x0_25 = model_osnet_x0_25.cuda()"
      ],
      "execution_count": null,
      "outputs": []
    },
    {
      "cell_type": "markdown",
      "metadata": {
        "id": "BpK3ivIS9dZY"
      },
      "source": [
        "dùng hàm tối ưu là adam"
      ]
    },
    {
      "cell_type": "code",
      "metadata": {
        "id": "gHJZPxjx9dZY"
      },
      "source": [
        "optimizer = torchreid.optim.build_optimizer(\n",
        "        model_osnet_x0_25,\n",
        "        optim='adam',\n",
        "        lr=0.0003\n",
        ")\n",
        "scheduler = torchreid.optim.build_lr_scheduler(\n",
        "        optimizer,\n",
        "        lr_scheduler='single_step',\n",
        "        stepsize=10 # bước nhảy là 10\n",
        ")"
      ],
      "execution_count": null,
      "outputs": []
    },
    {
      "cell_type": "markdown",
      "metadata": {
        "id": "ip2_D7dh9dZZ"
      },
      "source": [
        "### Train model"
      ]
    },
    {
      "cell_type": "code",
      "metadata": {
        "colab": {
          "base_uri": "https://localhost:8080/"
        },
        "id": "1Pg0FP-g9dZa",
        "outputId": "c3f25c14-24b3-4990-8c33-5d0ebc17b888"
      },
      "source": [
        "# Build engine\n",
        "engine = torchreid.engine.ImageSoftmaxEngine(\n",
        "      datamanager,\n",
        "      model_osnet_x0_25,\n",
        "      optimizer=optimizer,\n",
        "      scheduler=scheduler,\n",
        "      label_smooth=True\n",
        ")\n",
        "# Train\n",
        "engine.run(\n",
        "    save_dir='log/osnet_x0_25',\n",
        "    max_epoch=15, # train 15 epoch\n",
        "    eval_freq=10,\n",
        "    print_freq=200, # chạy mỗi lần 200 / 404 \n",
        "    test_only=False\n",
        ")"
      ],
      "execution_count": null,
      "outputs": [
        {
          "output_type": "stream",
          "name": "stdout",
          "text": [
            "=> Start training\n"
          ]
        },
        {
          "output_type": "stream",
          "name": "stderr",
          "text": [
            "/usr/local/lib/python3.7/dist-packages/torch/utils/data/dataloader.py:481: UserWarning: This DataLoader will create 4 worker processes in total. Our suggested max number of worker in current system is 2, which is smaller than what this DataLoader is going to create. Please be aware that excessive worker creation might get DataLoader running slow or even freeze, lower the worker number to avoid potential slowness/freeze if necessary.\n",
            "  cpuset_checked))\n"
          ]
        },
        {
          "output_type": "stream",
          "name": "stdout",
          "text": [
            "epoch: [1/15][200/404]\ttime 0.191 (0.198)\tdata 0.000 (0.004)\teta 0:19:21\tloss 4.7568 (5.8976)\tacc 31.2500 (7.7031)\tlr 0.000300\n",
            "epoch: [1/15][400/404]\ttime 0.162 (0.195)\tdata 0.000 (0.002)\teta 0:18:24\tloss 4.0267 (5.1050)\tacc 37.5000 (18.5312)\tlr 0.000300\n",
            "epoch: [2/15][200/404]\ttime 0.187 (0.194)\tdata 0.000 (0.003)\teta 0:17:39\tloss 2.5451 (3.0144)\tacc 81.2500 (62.4219)\tlr 0.000300\n",
            "epoch: [2/15][400/404]\ttime 0.157 (0.193)\tdata 0.000 (0.002)\teta 0:16:53\tloss 2.1280 (2.7324)\tacc 84.3750 (68.1016)\tlr 0.000300\n",
            "epoch: [3/15][200/404]\ttime 0.190 (0.196)\tdata 0.000 (0.004)\teta 0:16:32\tloss 1.9562 (1.9344)\tacc 81.2500 (86.8281)\tlr 0.000300\n",
            "epoch: [3/15][400/404]\ttime 0.155 (0.194)\tdata 0.001 (0.002)\teta 0:15:39\tloss 1.8728 (1.8564)\tacc 81.2500 (88.2344)\tlr 0.000300\n",
            "epoch: [4/15][200/404]\ttime 0.184 (0.195)\tdata 0.000 (0.003)\teta 0:15:06\tloss 1.5022 (1.5636)\tacc 100.0000 (94.7188)\tlr 0.000300\n",
            "epoch: [4/15][400/404]\ttime 0.155 (0.193)\tdata 0.000 (0.002)\teta 0:14:16\tloss 1.5626 (1.5497)\tacc 87.5000 (94.4922)\tlr 0.000300\n",
            "epoch: [5/15][200/404]\ttime 0.192 (0.194)\tdata 0.000 (0.003)\teta 0:13:41\tloss 1.4808 (1.4069)\tacc 96.8750 (97.0312)\tlr 0.000300\n",
            "epoch: [5/15][400/404]\ttime 0.158 (0.191)\tdata 0.000 (0.002)\teta 0:12:52\tloss 1.3608 (1.4087)\tacc 100.0000 (96.8828)\tlr 0.000300\n",
            "epoch: [6/15][200/404]\ttime 0.183 (0.196)\tdata 0.001 (0.003)\teta 0:12:32\tloss 1.3611 (1.3269)\tacc 96.8750 (98.4375)\tlr 0.000300\n",
            "epoch: [6/15][400/404]\ttime 0.161 (0.193)\tdata 0.000 (0.002)\teta 0:11:42\tloss 1.3542 (1.3312)\tacc 100.0000 (98.2812)\tlr 0.000300\n",
            "epoch: [7/15][200/404]\ttime 0.185 (0.195)\tdata 0.001 (0.004)\teta 0:11:11\tloss 1.2832 (1.2742)\tacc 100.0000 (98.9531)\tlr 0.000300\n",
            "epoch: [7/15][400/404]\ttime 0.154 (0.193)\tdata 0.000 (0.002)\teta 0:10:25\tloss 1.2604 (1.2812)\tacc 100.0000 (98.7500)\tlr 0.000300\n",
            "epoch: [8/15][200/404]\ttime 0.203 (0.198)\tdata 0.001 (0.004)\teta 0:09:59\tloss 1.2433 (1.2435)\tacc 96.8750 (99.1406)\tlr 0.000300\n",
            "epoch: [8/15][400/404]\ttime 0.159 (0.195)\tdata 0.000 (0.002)\teta 0:09:12\tloss 1.2282 (1.2495)\tacc 100.0000 (99.0391)\tlr 0.000300\n",
            "epoch: [9/15][200/404]\ttime 0.192 (0.196)\tdata 0.000 (0.004)\teta 0:08:34\tloss 1.2294 (1.2200)\tacc 100.0000 (99.2969)\tlr 0.000300\n",
            "epoch: [9/15][400/404]\ttime 0.156 (0.193)\tdata 0.000 (0.002)\teta 0:07:47\tloss 1.2708 (1.2268)\tacc 96.8750 (99.2188)\tlr 0.000300\n",
            "epoch: [10/15][200/404]\ttime 0.183 (0.196)\tdata 0.000 (0.004)\teta 0:07:15\tloss 1.1507 (1.1998)\tacc 100.0000 (99.6250)\tlr 0.000300\n",
            "epoch: [10/15][400/404]\ttime 0.165 (0.194)\tdata 0.000 (0.002)\teta 0:06:32\tloss 1.2635 (1.2103)\tacc 100.0000 (99.4922)\tlr 0.000300\n",
            "##### Evaluating market1501 (source) #####\n",
            "Extracting features from query set ...\n",
            "Done, obtained 3368-by-512 matrix\n",
            "Extracting features from gallery set ...\n",
            "Done, obtained 15913-by-512 matrix\n",
            "Speed: 0.1401 sec/batch\n",
            "Computing distance matrix with metric=euclidean ...\n",
            "Computing CMC and mAP ...\n",
            "** Results **\n",
            "mAP: 48.8%\n",
            "CMC curve\n",
            "Rank-1  : 74.6%\n",
            "Rank-5  : 89.0%\n",
            "Rank-10 : 93.2%\n",
            "Rank-20 : 95.5%\n",
            "Checkpoint saved to \"log/osnet_x0_25/model/model.pth.tar-10\"\n",
            "epoch: [11/15][200/404]\ttime 0.183 (0.198)\tdata 0.000 (0.004)\teta 0:05:59\tloss 1.1424 (1.1671)\tacc 100.0000 (99.6562)\tlr 0.000030\n",
            "epoch: [11/15][400/404]\ttime 0.158 (0.195)\tdata 0.001 (0.002)\teta 0:05:15\tloss 1.1926 (1.1634)\tacc 100.0000 (99.7656)\tlr 0.000030\n",
            "epoch: [12/15][200/404]\ttime 0.180 (0.196)\tdata 0.000 (0.004)\teta 0:04:38\tloss 1.1128 (1.1552)\tacc 100.0000 (99.8281)\tlr 0.000030\n",
            "epoch: [12/15][400/404]\ttime 0.154 (0.192)\tdata 0.000 (0.002)\teta 0:03:54\tloss 1.1804 (1.1551)\tacc 100.0000 (99.8281)\tlr 0.000030\n",
            "epoch: [13/15][200/404]\ttime 0.180 (0.192)\tdata 0.000 (0.004)\teta 0:03:14\tloss 1.1748 (1.1499)\tacc 100.0000 (99.9062)\tlr 0.000030\n",
            "epoch: [13/15][400/404]\ttime 0.154 (0.190)\tdata 0.000 (0.002)\teta 0:02:33\tloss 1.1523 (1.1531)\tacc 100.0000 (99.8672)\tlr 0.000030\n",
            "epoch: [14/15][200/404]\ttime 0.200 (0.194)\tdata 0.003 (0.004)\teta 0:01:57\tloss 1.1370 (1.1474)\tacc 100.0000 (99.9062)\tlr 0.000030\n",
            "epoch: [14/15][400/404]\ttime 0.154 (0.190)\tdata 0.000 (0.002)\teta 0:01:17\tloss 1.1689 (1.1505)\tacc 100.0000 (99.8984)\tlr 0.000030\n",
            "epoch: [15/15][200/404]\ttime 0.182 (0.192)\tdata 0.000 (0.004)\teta 0:00:39\tloss 1.1283 (1.1494)\tacc 100.0000 (99.8125)\tlr 0.000030\n",
            "epoch: [15/15][400/404]\ttime 0.156 (0.188)\tdata 0.000 (0.002)\teta 0:00:00\tloss 1.1551 (1.1498)\tacc 100.0000 (99.8984)\tlr 0.000030\n",
            "=> Final test\n",
            "##### Evaluating market1501 (source) #####\n",
            "Extracting features from query set ...\n",
            "Done, obtained 3368-by-512 matrix\n",
            "Extracting features from gallery set ...\n",
            "Done, obtained 15913-by-512 matrix\n",
            "Speed: 0.1327 sec/batch\n",
            "Computing distance matrix with metric=euclidean ...\n",
            "Computing CMC and mAP ...\n",
            "** Results **\n",
            "mAP: 50.3%\n",
            "CMC curve\n",
            "Rank-1  : 75.7%\n",
            "Rank-5  : 90.1%\n",
            "Rank-10 : 93.7%\n",
            "Rank-20 : 95.9%\n",
            "Checkpoint saved to \"log/osnet_x0_25/model/model.pth.tar-15\"\n",
            "Elapsed 0:21:02\n"
          ]
        }
      ]
    },
    {
      "cell_type": "markdown",
      "metadata": {
        "id": "5ZKXG4h99vEJ"
      },
      "source": [
        "## osnet_x1_0"
      ]
    },
    {
      "cell_type": "markdown",
      "metadata": {
        "id": "8xzEjyWW9vEw"
      },
      "source": [
        "### Build model sử dụng model (osnet_x1_0)"
      ]
    },
    {
      "cell_type": "markdown",
      "metadata": {
        "id": "Ru7n-T3o9vEx"
      },
      "source": [
        "nhận dạng nhiều lớp sử dụng loss là softmax nhận dạng 751 lớp "
      ]
    },
    {
      "cell_type": "code",
      "metadata": {
        "colab": {
          "base_uri": "https://localhost:8080/"
        },
        "id": "_jP2fqIS9vEy",
        "outputId": "58057fcb-4be7-4fcb-c1ee-119990dc540d"
      },
      "source": [
        "num = datamanager.num_train_pids\n",
        "num"
      ],
      "execution_count": 8,
      "outputs": [
        {
          "output_type": "execute_result",
          "data": {
            "text/plain": [
              "751"
            ]
          },
          "metadata": {},
          "execution_count": 8
        }
      ]
    },
    {
      "cell_type": "code",
      "metadata": {
        "colab": {
          "base_uri": "https://localhost:8080/"
        },
        "id": "jCRXvkdq9vE0",
        "outputId": "39d177b2-7584-4516-abc3-2053e1aac92b"
      },
      "source": [
        "model_osnet_x1_0 = torchreid.models.build_model(\n",
        "    name='osnet_x1_0',\n",
        "    num_classes=num,\n",
        "    loss='softmax',\n",
        "    pretrained=True\n",
        ")"
      ],
      "execution_count": 9,
      "outputs": [
        {
          "output_type": "stream",
          "name": "stderr",
          "text": [
            "Downloading...\n",
            "From: https://drive.google.com/uc?id=1LaG1EJpHrxdAxKnSCJ_i0u-nbxSAeiFY\n",
            "To: /root/.cache/torch/checkpoints/osnet_x1_0_imagenet.pth\n",
            "100%|██████████| 10.9M/10.9M [00:00<00:00, 53.7MB/s]"
          ]
        },
        {
          "output_type": "stream",
          "name": "stdout",
          "text": [
            "Successfully loaded imagenet pretrained weights from \"/root/.cache/torch/checkpoints/osnet_x1_0_imagenet.pth\"\n",
            "** The following layers are discarded due to unmatched keys or layer size: ['classifier.weight', 'classifier.bias']\n"
          ]
        },
        {
          "output_type": "stream",
          "name": "stderr",
          "text": [
            "\n"
          ]
        }
      ]
    },
    {
      "cell_type": "code",
      "metadata": {
        "id": "Wkv46l2s9vE1"
      },
      "source": [
        "model_osnet_x1_0 = model_osnet_x1_0.cuda()"
      ],
      "execution_count": 10,
      "outputs": []
    },
    {
      "cell_type": "markdown",
      "metadata": {
        "id": "bsmR8w5e9vE2"
      },
      "source": [
        "dùng hàm tối ưu là adam"
      ]
    },
    {
      "cell_type": "code",
      "metadata": {
        "id": "GotJkHqI9vE3"
      },
      "source": [
        "optimizer = torchreid.optim.build_optimizer(\n",
        "        model_osnet_x1_0,\n",
        "        optim='adam',\n",
        "        lr=0.0003\n",
        ")\n",
        "scheduler = torchreid.optim.build_lr_scheduler(\n",
        "        optimizer,\n",
        "        lr_scheduler='single_step',\n",
        "        stepsize=10 # bước nhảy là 10\n",
        ")"
      ],
      "execution_count": 11,
      "outputs": []
    },
    {
      "cell_type": "markdown",
      "metadata": {
        "id": "kcb80hj49vE4"
      },
      "source": [
        "### Train model"
      ]
    },
    {
      "cell_type": "code",
      "metadata": {
        "colab": {
          "base_uri": "https://localhost:8080/"
        },
        "id": "F4nFdsIC9vE4",
        "outputId": "a8868d45-c779-4291-dd03-981fdb00970d"
      },
      "source": [
        " # Build engine\n",
        "engine = torchreid.engine.ImageSoftmaxEngine(\n",
        "      datamanager,\n",
        "      model_osnet_x1_0,\n",
        "      optimizer=optimizer,\n",
        "      scheduler=scheduler,\n",
        "      label_ smooth=True\n",
        ")\n",
        "# Train\n",
        "engine.run(\n",
        "    save_dir='log/osnet_x1_0',\n",
        "    max_epoch=15, # train 15 epoch\n",
        "    eval_freq=10,\n",
        "    print_freq=200, # chạy mỗi lần 200 / 404 \n",
        "    test_only=False\n",
        ")"
      ],
      "execution_count": 12,
      "outputs": [
        {
          "output_type": "stream",
          "name": "stdout",
          "text": [
            "=> Start training\n"
          ]
        },
        {
          "output_type": "stream",
          "name": "stderr",
          "text": [
            "/usr/local/lib/python3.7/dist-packages/torch/utils/data/dataloader.py:481: UserWarning: This DataLoader will create 4 worker processes in total. Our suggested max number of worker in current system is 2, which is smaller than what this DataLoader is going to create. Please be aware that excessive worker creation might get DataLoader running slow or even freeze, lower the worker number to avoid potential slowness/freeze if necessary.\n",
            "  cpuset_checked))\n"
          ]
        },
        {
          "output_type": "stream",
          "name": "stdout",
          "text": [
            "epoch: [1/15][200/404]\ttime 0.486 (0.500)\tdata 0.000 (0.020)\teta 0:48:48\tloss 5.0376 (5.9232)\tacc 12.5000 (7.9219)\tlr 0.000300\n",
            "epoch: [1/15][400/404]\ttime 0.495 (0.492)\tdata 0.000 (0.010)\teta 0:46:22\tloss 3.5376 (5.0096)\tacc 53.1250 (22.0938)\tlr 0.000300\n",
            "epoch: [2/15][200/404]\ttime 0.484 (0.488)\tdata 0.001 (0.004)\teta 0:44:20\tloss 2.1724 (2.6284)\tacc 84.3750 (69.4375)\tlr 0.000300\n",
            "epoch: [2/15][400/404]\ttime 0.484 (0.486)\tdata 0.000 (0.002)\teta 0:42:35\tloss 1.8218 (2.3124)\tacc 84.3750 (76.5547)\tlr 0.000300\n",
            "epoch: [3/15][200/404]\ttime 0.484 (0.488)\tdata 0.000 (0.004)\teta 0:41:03\tloss 1.4465 (1.5290)\tacc 96.8750 (93.9375)\tlr 0.000300\n",
            "epoch: [3/15][400/404]\ttime 0.485 (0.486)\tdata 0.000 (0.002)\teta 0:39:18\tloss 1.3959 (1.4821)\tacc 93.7500 (94.5469)\tlr 0.000300\n",
            "epoch: [4/15][200/404]\ttime 0.480 (0.487)\tdata 0.000 (0.003)\teta 0:37:42\tloss 1.2323 (1.2771)\tacc 96.8750 (98.0781)\tlr 0.000300\n",
            "epoch: [4/15][400/404]\ttime 0.481 (0.485)\tdata 0.000 (0.002)\teta 0:35:59\tloss 1.4022 (1.2761)\tacc 87.5000 (97.8828)\tlr 0.000300\n",
            "epoch: [5/15][200/404]\ttime 0.482 (0.487)\tdata 0.000 (0.003)\teta 0:34:27\tloss 1.1866 (1.1983)\tacc 96.8750 (99.1406)\tlr 0.000300\n",
            "epoch: [5/15][400/404]\ttime 0.482 (0.486)\tdata 0.000 (0.002)\teta 0:32:44\tloss 1.1934 (1.2062)\tacc 100.0000 (98.8906)\tlr 0.000300\n",
            "epoch: [6/15][200/404]\ttime 0.482 (0.487)\tdata 0.001 (0.003)\teta 0:31:10\tloss 1.1547 (1.1585)\tacc 100.0000 (99.4219)\tlr 0.000300\n",
            "epoch: [6/15][400/404]\ttime 0.477 (0.486)\tdata 0.000 (0.002)\teta 0:29:27\tloss 1.1803 (1.1703)\tacc 100.0000 (99.2734)\tlr 0.000300\n",
            "epoch: [7/15][200/404]\ttime 0.499 (0.487)\tdata 0.000 (0.003)\teta 0:27:54\tloss 1.1410 (1.1488)\tacc 96.8750 (99.3125)\tlr 0.000300\n",
            "epoch: [7/15][400/404]\ttime 0.493 (0.486)\tdata 0.000 (0.002)\teta 0:26:12\tloss 1.1288 (1.1521)\tacc 100.0000 (99.4062)\tlr 0.000300\n",
            "epoch: [8/15][200/404]\ttime 0.481 (0.487)\tdata 0.001 (0.003)\teta 0:24:37\tloss 1.0900 (1.1292)\tacc 100.0000 (99.6094)\tlr 0.000300\n",
            "epoch: [8/15][400/404]\ttime 0.480 (0.486)\tdata 0.000 (0.002)\teta 0:22:56\tloss 1.1408 (1.1376)\tacc 100.0000 (99.5547)\tlr 0.000300\n",
            "epoch: [9/15][200/404]\ttime 0.496 (0.488)\tdata 0.000 (0.003)\teta 0:21:21\tloss 1.1261 (1.1202)\tacc 100.0000 (99.7188)\tlr 0.000300\n",
            "epoch: [9/15][400/404]\ttime 0.480 (0.486)\tdata 0.000 (0.002)\teta 0:19:39\tloss 1.1038 (1.1320)\tacc 100.0000 (99.6172)\tlr 0.000300\n",
            "epoch: [10/15][200/404]\ttime 0.482 (0.487)\tdata 0.000 (0.003)\teta 0:18:03\tloss 1.1528 (1.1200)\tacc 96.8750 (99.6250)\tlr 0.000300\n",
            "epoch: [10/15][400/404]\ttime 0.482 (0.486)\tdata 0.000 (0.002)\teta 0:16:23\tloss 1.1864 (1.1249)\tacc 96.8750 (99.5938)\tlr 0.000300\n",
            "##### Evaluating market1501 (source) #####\n",
            "Extracting features from query set ...\n",
            "Done, obtained 3368-by-512 matrix\n",
            "Extracting features from gallery set ...\n",
            "Done, obtained 15913-by-512 matrix\n",
            "Speed: 0.0464 sec/batch\n",
            "Computing distance matrix with metric=euclidean ...\n",
            "Computing CMC and mAP ...\n",
            "** Results **\n",
            "mAP: 69.2%\n",
            "CMC curve\n",
            "Rank-1  : 87.6%\n",
            "Rank-5  : 94.4%\n",
            "Rank-10 : 96.4%\n",
            "Rank-20 : 98.0%\n",
            "Checkpoint saved to \"log/osnet_x1_0/model/model.pth.tar-10\"\n",
            "epoch: [11/15][200/404]\ttime 0.476 (0.481)\tdata 0.000 (0.004)\teta 0:14:35\tloss 1.0868 (1.0858)\tacc 100.0000 (99.9219)\tlr 0.000030\n",
            "epoch: [11/15][400/404]\ttime 0.477 (0.480)\tdata 0.000 (0.002)\teta 0:12:57\tloss 1.0522 (1.0788)\tacc 100.0000 (99.9141)\tlr 0.000030\n",
            "epoch: [12/15][200/404]\ttime 0.478 (0.483)\tdata 0.000 (0.004)\teta 0:11:24\tloss 1.0495 (1.0602)\tacc 100.0000 (100.0000)\tlr 0.000030\n",
            "epoch: [12/15][400/404]\ttime 0.483 (0.481)\tdata 0.000 (0.002)\teta 0:09:45\tloss 1.0625 (1.0607)\tacc 100.0000 (99.9922)\tlr 0.000030\n",
            "epoch: [13/15][200/404]\ttime 0.480 (0.482)\tdata 0.002 (0.003)\teta 0:08:08\tloss 1.0437 (1.0550)\tacc 100.0000 (100.0000)\tlr 0.000030\n",
            "epoch: [13/15][400/404]\ttime 0.478 (0.480)\tdata 0.001 (0.002)\teta 0:06:30\tloss 1.0448 (1.0552)\tacc 100.0000 (100.0000)\tlr 0.000030\n",
            "epoch: [14/15][200/404]\ttime 0.476 (0.482)\tdata 0.000 (0.003)\teta 0:04:52\tloss 1.0532 (1.0521)\tacc 100.0000 (100.0000)\tlr 0.000030\n",
            "epoch: [14/15][400/404]\ttime 0.493 (0.481)\tdata 0.000 (0.002)\teta 0:03:16\tloss 1.0587 (1.0529)\tacc 100.0000 (100.0000)\tlr 0.000030\n",
            "epoch: [15/15][200/404]\ttime 0.483 (0.483)\tdata 0.003 (0.003)\teta 0:01:38\tloss 1.0373 (1.0492)\tacc 100.0000 (100.0000)\tlr 0.000030\n",
            "epoch: [15/15][400/404]\ttime 0.480 (0.481)\tdata 0.001 (0.002)\teta 0:00:01\tloss 1.0545 (1.0509)\tacc 100.0000 (100.0000)\tlr 0.000030\n",
            "=> Final test\n",
            "##### Evaluating market1501 (source) #####\n",
            "Extracting features from query set ...\n",
            "Done, obtained 3368-by-512 matrix\n",
            "Extracting features from gallery set ...\n",
            "Done, obtained 15913-by-512 matrix\n",
            "Speed: 0.0443 sec/batch\n",
            "Computing distance matrix with metric=euclidean ...\n",
            "Computing CMC and mAP ...\n",
            "** Results **\n",
            "mAP: 74.2%\n",
            "CMC curve\n",
            "Rank-1  : 89.9%\n",
            "Rank-5  : 95.8%\n",
            "Rank-10 : 97.7%\n",
            "Rank-20 : 98.7%\n",
            "Checkpoint saved to \"log/osnet_x1_0/model/model.pth.tar-15\"\n",
            "Elapsed 0:56:06\n"
          ]
        }
      ]
    }
  ]
}